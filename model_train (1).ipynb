{
  "nbformat": 4,
  "nbformat_minor": 0,
  "metadata": {
    "language_info": {
      "codemirror_mode": {
        "name": "ipython",
        "version": 3
      },
      "file_extension": ".py",
      "mimetype": "text/x-python",
      "name": "python",
      "nbconvert_exporter": "python",
      "pygments_lexer": "ipython3",
      "version": "3.8.5-final"
    },
    "orig_nbformat": 2,
    "kernelspec": {
      "name": "python3",
      "display_name": "Python 3",
      "language": "python"
    },
    "colab": {
      "name": "model_train.ipynb",
      "provenance": [],
      "collapsed_sections": []
    },
    "accelerator": "GPU"
  },
  "cells": [
    {
      "cell_type": "code",
      "metadata": {
        "id": "xO9rq2eBnFPg"
      },
      "source": [
        "# Import Stuff\n",
        "import tensorflow as tf\n",
        "from tensorflow import keras\n",
        "import numpy as np\n",
        "from tensorflow.keras import datasets, layers, models\n",
        "from sklearn.model_selection import train_test_split\n",
        "import matplotlib.pyplot as plt\n",
        "import cv2\n",
        "from tensorflow.keras.preprocessing.image import ImageDataGenerator \n",
        "from multiprocessing import Process\n",
        "from IPython.display import clear_output\n",
        "from keras.layers.normalization import BatchNormalization"
      ],
      "execution_count": 1,
      "outputs": []
    },
    {
      "cell_type": "code",
      "metadata": {
        "id": "BX4DVYY3s67Q"
      },
      "source": [
        "# All Parameters required for training are declared over here\n",
        "DIR = \"Data\"\n",
        "# Frequency of Image Capturing\n",
        "FRAME_SKIP = 2\n",
        "# Frame Size\n",
        "FRAME_SIZE = (150,150)"
      ],
      "execution_count": 2,
      "outputs": []
    },
    {
      "cell_type": "code",
      "metadata": {
        "colab": {
          "base_uri": "https://localhost:8080/"
        },
        "id": "VQaV_movXscq",
        "outputId": "f007748a-80f4-4fd2-e040-90a8526e5ba2"
      },
      "source": [
        "# Dataset\n",
        "!rm -r A-Dataset-for-Automatic-Violence-Detection-in-Videos/\n",
        "!git clone https://github.com/airtlab/A-Dataset-for-Automatic-Violence-Detection-in-Videos"
      ],
      "execution_count": 3,
      "outputs": [
        {
          "output_type": "stream",
          "text": [
            "rm: cannot remove 'A-Dataset-for-Automatic-Violence-Detection-in-Videos/': No such file or directory\n",
            "Cloning into 'A-Dataset-for-Automatic-Violence-Detection-in-Videos'...\n",
            "remote: Enumerating objects: 3, done.\u001b[K\n",
            "remote: Counting objects: 100% (3/3), done.\u001b[K\n",
            "remote: Compressing objects: 100% (3/3), done.\u001b[K\n",
            "remote: Total 367 (delta 0), reused 2 (delta 0), pack-reused 364\u001b[K\n",
            "Receiving objects: 100% (367/367), 1.02 GiB | 54.48 MiB/s, done.\n",
            "Checking out files: 100% (355/355), done.\n"
          ],
          "name": "stdout"
        }
      ]
    },
    {
      "cell_type": "code",
      "metadata": {
        "id": "vVE9tWL2nwtS",
        "colab": {
          "resources": {
            "http://localhost:8080/nbextensions/google.colab/files.js": {
              "data": "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",
              "ok": true,
              "headers": [
                [
                  "content-type",
                  "application/javascript"
                ]
              ],
              "status": 200,
              "status_text": ""
            }
          },
          "base_uri": "https://localhost:8080/",
          "height": 89
        },
        "outputId": "ab8c940a-5811-4b4e-c65a-98c72fb58120"
      },
      "source": [
        "from google.colab import files\n",
        "files.upload()"
      ],
      "execution_count": 4,
      "outputs": [
        {
          "output_type": "display_data",
          "data": {
            "text/html": [
              "\n",
              "     <input type=\"file\" id=\"files-f969f97d-1d18-410f-9a7e-1151c1bb803e\" name=\"files[]\" multiple disabled\n",
              "        style=\"border:none\" />\n",
              "     <output id=\"result-f969f97d-1d18-410f-9a7e-1151c1bb803e\">\n",
              "      Upload widget is only available when the cell has been executed in the\n",
              "      current browser session. Please rerun this cell to enable.\n",
              "      </output>\n",
              "      <script src=\"/nbextensions/google.colab/files.js\"></script> "
            ],
            "text/plain": [
              "<IPython.core.display.HTML object>"
            ]
          },
          "metadata": {
            "tags": []
          }
        },
        {
          "output_type": "stream",
          "text": [
            "Saving kaggle.json to kaggle.json\n"
          ],
          "name": "stdout"
        },
        {
          "output_type": "execute_result",
          "data": {
            "text/plain": [
              "{'kaggle.json': b'{\"username\":\"aditiagarwal01\",\"key\":\"4c56849565c39183e765f285aeafe7d3\"}\\n'}"
            ]
          },
          "metadata": {
            "tags": []
          },
          "execution_count": 4
        }
      ]
    },
    {
      "cell_type": "code",
      "metadata": {
        "id": "1MJ6EW6En1si"
      },
      "source": [
        "! mkdir ~/.kaggle\n",
        "! cp kaggle.json ~/.kaggle/\n",
        "! chmod 600 ~/.kaggle/kaggle.json"
      ],
      "execution_count": 5,
      "outputs": []
    },
    {
      "cell_type": "code",
      "metadata": {
        "id": "VQxZknKkn3is",
        "colab": {
          "base_uri": "https://localhost:8080/"
        },
        "outputId": "30590bfe-74ee-4881-cadd-ade9ebac074b"
      },
      "source": [
        "! kaggle datasets download -d mohamedmustafa/real-life-violence-situations-dataset"
      ],
      "execution_count": 6,
      "outputs": [
        {
          "output_type": "stream",
          "text": [
            "Downloading real-life-violence-situations-dataset.zip to /content\n",
            "100% 3.58G/3.58G [01:03<00:00, 32.7MB/s]\n",
            "\n"
          ],
          "name": "stdout"
        }
      ]
    },
    {
      "cell_type": "code",
      "metadata": {
        "id": "4iELrCX2oODT",
        "colab": {
          "base_uri": "https://localhost:8080/"
        },
        "outputId": "1f842f2c-240d-4c8d-d6ee-aba38cb33cfd"
      },
      "source": [
        "!unzip \\*.zip  && rm *.zip\n",
        "!rm -r ./real\\ life\\ violence\\ situations\n",
        "clear_output()\n",
        "print(\"Extracted\")"
      ],
      "execution_count": 7,
      "outputs": [
        {
          "output_type": "stream",
          "text": [
            "Extracted\n"
          ],
          "name": "stdout"
        }
      ]
    },
    {
      "cell_type": "code",
      "metadata": {
        "id": "IB0foOQvY3UQ"
      },
      "source": [
        "\n",
        "!rm -r Data\n",
        "!mkdir Data\n",
        "!mkdir -p ./Data/Video/Violent\n",
        "!mkdir -p ./Data/Video/NonViolent\n",
        "!cp -a ./A-Dataset-for-Automatic-Violence-Detection-in-Videos/violence-detection-dataset/violent/cam1/. ./Data/Video/Violent/\n",
        "!cp -a ./Real\\ Life\\ Violence\\ Dataset/Violence/. ./Data/Video/Violent/\n",
        "!cp -a ./Real\\ Life\\ Violence\\ Dataset/NonViolence/. ./Data/Video/NonViolent/\n",
        "!cp -a ./A-Dataset-for-Automatic-Violence-Detection-in-Videos/violence-detection-dataset/non-violent/cam1/. ./Data/Video/NonViolent/\n",
        "clear_output()\n",
        "!mkdir -p ./Data/Training/V\n",
        "!mkdir -p ./Data/Training/NV\n",
        "!mkdir -p ./Data/Testing/V\n",
        "!mkdir -p ./Data/Testing/NV"
      ],
      "execution_count": 8,
      "outputs": []
    },
    {
      "cell_type": "code",
      "metadata": {
        "id": "vzxfg3O5raSP"
      },
      "source": [
        "# A custom class for extracting image assets from videos\n",
        "import cv2, os\n",
        "class Extractor(object):\n",
        "    def __init__(self, FRAME_SIZE = (150, 150), FRAME_SKIP = 10, Train = True):\n",
        "        self.size = FRAME_SIZE\n",
        "        self.count = 0\n",
        "        self.skip = FRAME_SKIP\n",
        "        if Train:\n",
        "            self.dir = './Data/Training/'\n",
        "        else:\n",
        "            self.dir = './Data/Testing/'\n",
        "\n",
        "    def extract(self, path, DIR = 'tmp'):\n",
        "        folder = self.dir+ DIR\n",
        "        cap = cv2.VideoCapture(path)   # capturing the video from the given path\n",
        "        while True:\n",
        "            frame = []\n",
        "            stat = True\n",
        "            for i in range(self.skip):\n",
        "                ret, frame = cap.read()\n",
        "                if ret is False:\n",
        "                    stat = False\n",
        "                    break\n",
        "            if stat is False:\n",
        "                break\n",
        "            frame = cv2.resize(frame, self.size)\n",
        "            fname = '%s/%d.jpeg' % (folder, self.count)\n",
        "            cv2.imwrite(fname, frame)\n",
        "            self.count += 1\n",
        "        # cap.release()"
      ],
      "execution_count": 9,
      "outputs": []
    },
    {
      "cell_type": "code",
      "metadata": {
        "id": "uc7wSf0SneYv"
      },
      "source": [
        "def thread_1():\n",
        "    ext = Extractor(FRAME_SIZE, FRAME_SKIP)\n",
        "    for i in range(60):\n",
        "        path = f\"./Data/Video/Violent/{i+1}.mp4\"\n",
        "        print(f\"Processing Violent {i}\")\n",
        "        ext.extract(path, 'V')\n",
        "\n",
        "    for i in range(800):\n",
        "        path = f\"./Data/Video/Violent/V_{i+1}.mp4\"\n",
        "        print(f\"Processing Violent V_{i}\")\n",
        "        ext.extract(path, 'V')\n",
        "\n",
        "    print(\"Violent Extracted\")\n",
        "\n",
        "def thread_2():\n",
        "    ext = Extractor(FRAME_SIZE, FRAME_SKIP)\n",
        "    for i in range(60):\n",
        "        path = f\"/content/Data/Video/NonViolent/{i+1}.mp4\"\n",
        "        print(f\"Processing NonViolent {i}\")\n",
        "        ext.extract(path, 'NV')\n",
        "    \n",
        "    for i in range(800):\n",
        "        path = f\"/content/Data/Video/NonViolent/NV_{i+1}.mp4\"\n",
        "        print(f\"Processing NonViolent NV_{i}\")\n",
        "        ext.extract(path, 'NV')\n",
        "\n",
        "    print(\"Non-Violent Extracted\")\n",
        "\n",
        "def thread_3():\n",
        "    ext = Extractor(FRAME_SIZE, FRAME_SKIP, Train=False)\n",
        "    \n",
        "    for i in range(800, 1000):\n",
        "        path = f\"./Data/Video/Violent/V_{i+1}.mp4\"\n",
        "        print(f\"Processing Violent V_{i}\")\n",
        "        ext.extract(path, 'V')\n",
        "\n",
        "    print(\"Violent Extracted\")\n",
        "\n",
        "def thread_4():\n",
        "    ext = Extractor(FRAME_SIZE, FRAME_SKIP, Train=False)\n",
        "    for i in range(800, 1000):\n",
        "        path = f\"/content/Data/Video/NonViolent/NV_{i+1}.mp4\"\n",
        "        print(f\"Processing NonViolent NV_{i}\")\n",
        "        ext.extract(path, 'NV')\n",
        "\n",
        "    print(\"Non-Violent Extracted\")\n",
        "\n"
      ],
      "execution_count": 10,
      "outputs": []
    },
    {
      "cell_type": "code",
      "metadata": {
        "id": "8hJBNB8nnFP4",
        "colab": {
          "base_uri": "https://localhost:8080/"
        },
        "outputId": "373f21fd-7729-4030-d71a-760e13de5c75"
      },
      "source": [
        "# Violent Extraction\n",
        "t1 = Process(target=thread_1, args=())\n",
        "t2 = Process(target=thread_2, args=())\n",
        "t3 = Process(target=thread_3, args=())\n",
        "t4 = Process(target=thread_4, args=())\n",
        "\n",
        "t1.start() \n",
        "t2.start()\n",
        "t3.start() \n",
        "t4.start()\n",
        "# NonViolent Extraction\n",
        "\n",
        "t1.join()\n",
        "t2.join()\n",
        "t3.join()\n",
        "t4.join()\n",
        "\n",
        "clear_output()\n",
        "print(\"Complete\")"
      ],
      "execution_count": 11,
      "outputs": [
        {
          "output_type": "stream",
          "text": [
            "Complete\n"
          ],
          "name": "stdout"
        }
      ]
    },
    {
      "cell_type": "code",
      "metadata": {
        "id": "YjSO8xyLlBM2"
      },
      "source": [
        "# Let the training Begin\r\n",
        "base_dir='./Data'\r\n",
        "train_dir=os.path.join(base_dir,'Training')\r\n",
        "test_dir=os.path.join(base_dir,\"Testing\")\r\n",
        "\r\n",
        "train_violent_dir =os.path.join(train_dir, 'V' )\r\n",
        "train_nonviolent_dir=os.path.join(train_dir,'NV')\r\n",
        "test_violent_dir=os.path.join(test_dir,'V')\r\n",
        "test_nonviolent_dir=os.path.join(test_dir,'NV')\r\n"
      ],
      "execution_count": 12,
      "outputs": []
    },
    {
      "cell_type": "code",
      "metadata": {
        "id": "UzDdYValroVM"
      },
      "source": [
        "train_datagen= ImageDataGenerator(rescale=1./255, rotation_range=40,width_shift_range=0.2, height_shift_range=0.2, shear_range=0.2,horizontal_flip=True, fill_mode='nearest')"
      ],
      "execution_count": 13,
      "outputs": []
    },
    {
      "cell_type": "code",
      "metadata": {
        "id": "IpUh9sqMAr_x"
      },
      "source": [
        "test_datagen =ImageDataGenerator(rescale=1./255)"
      ],
      "execution_count": 14,
      "outputs": []
    },
    {
      "cell_type": "code",
      "metadata": {
        "colab": {
          "base_uri": "https://localhost:8080/"
        },
        "id": "7RHBfUhZsRMn",
        "outputId": "637055f1-3695-406f-bc43-3daa3ec398f0"
      },
      "source": [
        "train_generator = train_datagen.flow_from_directory(train_dir,color_mode=\"rgb\", target_size = (150,150),batch_size=20,classes=['NV','V'], class_mode='binary', shuffle=True)"
      ],
      "execution_count": 15,
      "outputs": [
        {
          "output_type": "stream",
          "text": [
            "Found 122959 images belonging to 2 classes.\n"
          ],
          "name": "stdout"
        }
      ]
    },
    {
      "cell_type": "code",
      "metadata": {
        "colab": {
          "base_uri": "https://localhost:8080/"
        },
        "id": "0889RIYSBd8G",
        "outputId": "8a2de76a-f638-4d5e-cc2e-ad8e12517427"
      },
      "source": [
        "validation_generator = test_datagen.flow_from_directory(test_dir,color_mode='rgb',target_size=(150,150),batch_size=20,classes=['NV','V'], class_mode='binary',shuffle=True)"
      ],
      "execution_count": 16,
      "outputs": [
        {
          "output_type": "stream",
          "text": [
            "Found 26988 images belonging to 2 classes.\n"
          ],
          "name": "stdout"
        }
      ]
    },
    {
      "cell_type": "markdown",
      "metadata": {
        "id": "INw9YQBJgZgP"
      },
      "source": [
        "//CNN model architecture , basic customised Convolutional Neural Network \r\n"
      ]
    },
    {
      "cell_type": "code",
      "metadata": {
        "id": "xk8zYR_pt-6w"
      },
      "source": [
        "model= tf.keras.models.Sequential([\r\n",
        "       tf.keras.layers.Conv2D(32,(3,3),activation='relu',input_shape=(150,150,3)),\r\n",
        "       tf.keras.layers.MaxPooling2D(2,2),\r\n",
        "       tf.keras.layers.Conv2D(64,(3,3),activation='relu'),\r\n",
        "       tf.keras.layers.MaxPooling2D(2,2),\r\n",
        "       tf.keras.layers.Conv2D(128,(3,3),activation='relu'),\r\n",
        "       tf.keras.layers.MaxPooling2D(2,2),\r\n",
        "       tf.keras.layers.Conv2D(128,(3,3),activation='relu'),\r\n",
        "       tf.keras.layers.MaxPooling2D(2,2),\r\n",
        "       tf.keras.layers.Dropout(0.5),\r\n",
        "       tf.keras.layers.Flatten(),\r\n",
        "       tf.keras.layers.Dense(512, activation='relu'),\r\n",
        "       tf.keras.layers.Dense(1,activation ='sigmoid')\r\n",
        "\r\n",
        "])"
      ],
      "execution_count": 53,
      "outputs": []
    },
    {
      "cell_type": "code",
      "metadata": {
        "id": "Pve_q6THujOz"
      },
      "source": [
        "model.compile(loss='binary_crossentropy',optimizer='adam',metrics=['accuracy'])"
      ],
      "execution_count": 54,
      "outputs": []
    },
    {
      "cell_type": "code",
      "metadata": {
        "colab": {
          "base_uri": "https://localhost:8080/"
        },
        "id": "idaPR2xmuuLs",
        "outputId": "e815356f-4e5d-43fb-ec01-7772578db116"
      },
      "source": [
        "history=model.fit(train_generator,steps_per_epoch=50, epochs=50, validation_data=validation_generator,validation_steps=50,verbose=2)"
      ],
      "execution_count": 62,
      "outputs": [
        {
          "output_type": "stream",
          "text": [
            "Epoch 1/50\n",
            "50/50 - 6s - loss: 0.5003 - accuracy: 0.7360 - val_loss: 0.8442 - val_accuracy: 0.5530\n",
            "Epoch 2/50\n",
            "50/50 - 6s - loss: 0.5595 - accuracy: 0.6880 - val_loss: 0.7637 - val_accuracy: 0.4820\n",
            "Epoch 3/50\n",
            "50/50 - 6s - loss: 0.5598 - accuracy: 0.6960 - val_loss: 0.8005 - val_accuracy: 0.5110\n",
            "Epoch 4/50\n",
            "50/50 - 6s - loss: 0.5096 - accuracy: 0.7180 - val_loss: 0.8040 - val_accuracy: 0.5260\n",
            "Epoch 5/50\n",
            "50/50 - 6s - loss: 0.4718 - accuracy: 0.7550 - val_loss: 0.9851 - val_accuracy: 0.5740\n",
            "Epoch 6/50\n",
            "50/50 - 6s - loss: 0.5026 - accuracy: 0.7260 - val_loss: 0.7871 - val_accuracy: 0.5510\n",
            "Epoch 7/50\n",
            "50/50 - 6s - loss: 0.4895 - accuracy: 0.7480 - val_loss: 0.6808 - val_accuracy: 0.5740\n",
            "Epoch 8/50\n",
            "50/50 - 6s - loss: 0.5308 - accuracy: 0.7150 - val_loss: 0.8362 - val_accuracy: 0.5360\n",
            "Epoch 9/50\n",
            "50/50 - 6s - loss: 0.4681 - accuracy: 0.7580 - val_loss: 0.8003 - val_accuracy: 0.5850\n",
            "Epoch 10/50\n",
            "50/50 - 6s - loss: 0.4793 - accuracy: 0.7680 - val_loss: 1.0267 - val_accuracy: 0.5730\n",
            "Epoch 11/50\n",
            "50/50 - 6s - loss: 0.4590 - accuracy: 0.7750 - val_loss: 1.1312 - val_accuracy: 0.5680\n",
            "Epoch 12/50\n",
            "50/50 - 6s - loss: 0.4607 - accuracy: 0.7670 - val_loss: 0.6720 - val_accuracy: 0.6290\n",
            "Epoch 13/50\n",
            "50/50 - 6s - loss: 0.4581 - accuracy: 0.7720 - val_loss: 0.8167 - val_accuracy: 0.5910\n",
            "Epoch 14/50\n",
            "50/50 - 6s - loss: 0.4795 - accuracy: 0.7430 - val_loss: 0.8216 - val_accuracy: 0.6530\n",
            "Epoch 15/50\n",
            "50/50 - 6s - loss: 0.4921 - accuracy: 0.7500 - val_loss: 0.7126 - val_accuracy: 0.5990\n",
            "Epoch 16/50\n",
            "50/50 - 6s - loss: 0.4483 - accuracy: 0.7700 - val_loss: 0.8854 - val_accuracy: 0.6250\n",
            "Epoch 17/50\n",
            "50/50 - 6s - loss: 0.4192 - accuracy: 0.7890 - val_loss: 1.1400 - val_accuracy: 0.5830\n",
            "Epoch 18/50\n",
            "50/50 - 6s - loss: 0.4519 - accuracy: 0.7580 - val_loss: 0.8026 - val_accuracy: 0.6110\n",
            "Epoch 19/50\n",
            "50/50 - 6s - loss: 0.4280 - accuracy: 0.7860 - val_loss: 1.1254 - val_accuracy: 0.5850\n",
            "Epoch 20/50\n",
            "50/50 - 6s - loss: 0.4148 - accuracy: 0.7840 - val_loss: 0.8187 - val_accuracy: 0.6360\n",
            "Epoch 21/50\n",
            "50/50 - 6s - loss: 0.4674 - accuracy: 0.7730 - val_loss: 0.9198 - val_accuracy: 0.5820\n",
            "Epoch 22/50\n",
            "50/50 - 6s - loss: 0.4560 - accuracy: 0.7580 - val_loss: 1.4777 - val_accuracy: 0.5880\n",
            "Epoch 23/50\n",
            "50/50 - 6s - loss: 0.4323 - accuracy: 0.7630 - val_loss: 0.8597 - val_accuracy: 0.6190\n",
            "Epoch 24/50\n",
            "50/50 - 6s - loss: 0.4187 - accuracy: 0.7820 - val_loss: 1.5579 - val_accuracy: 0.5720\n",
            "Epoch 25/50\n",
            "50/50 - 6s - loss: 0.3980 - accuracy: 0.7930 - val_loss: 0.8456 - val_accuracy: 0.6410\n",
            "Epoch 26/50\n",
            "50/50 - 6s - loss: 0.4375 - accuracy: 0.7810 - val_loss: 1.0037 - val_accuracy: 0.5810\n",
            "Epoch 27/50\n",
            "50/50 - 6s - loss: 0.3887 - accuracy: 0.7960 - val_loss: 1.1950 - val_accuracy: 0.6220\n",
            "Epoch 28/50\n",
            "50/50 - 6s - loss: 0.4366 - accuracy: 0.7730 - val_loss: 1.3672 - val_accuracy: 0.5690\n",
            "Epoch 29/50\n",
            "50/50 - 6s - loss: 0.5204 - accuracy: 0.7390 - val_loss: 0.7597 - val_accuracy: 0.5920\n",
            "Epoch 30/50\n",
            "50/50 - 6s - loss: 0.4335 - accuracy: 0.7680 - val_loss: 0.8666 - val_accuracy: 0.5650\n",
            "Epoch 31/50\n",
            "50/50 - 6s - loss: 0.4335 - accuracy: 0.7820 - val_loss: 0.9146 - val_accuracy: 0.5910\n",
            "Epoch 32/50\n",
            "50/50 - 6s - loss: 0.4536 - accuracy: 0.7570 - val_loss: 1.4812 - val_accuracy: 0.5480\n",
            "Epoch 33/50\n",
            "50/50 - 6s - loss: 0.4304 - accuracy: 0.7830 - val_loss: 0.7691 - val_accuracy: 0.5960\n",
            "Epoch 34/50\n",
            "50/50 - 6s - loss: 0.4126 - accuracy: 0.7970 - val_loss: 0.9078 - val_accuracy: 0.6380\n",
            "Epoch 35/50\n",
            "50/50 - 6s - loss: 0.4316 - accuracy: 0.7850 - val_loss: 1.1846 - val_accuracy: 0.5560\n",
            "Epoch 36/50\n",
            "50/50 - 6s - loss: 0.4345 - accuracy: 0.7770 - val_loss: 0.9399 - val_accuracy: 0.5790\n",
            "Epoch 37/50\n",
            "50/50 - 6s - loss: 0.4154 - accuracy: 0.8030 - val_loss: 0.9964 - val_accuracy: 0.5910\n",
            "Epoch 38/50\n",
            "50/50 - 6s - loss: 0.4269 - accuracy: 0.7780 - val_loss: 0.8369 - val_accuracy: 0.6290\n",
            "Epoch 39/50\n",
            "50/50 - 6s - loss: 0.3789 - accuracy: 0.8070 - val_loss: 1.0105 - val_accuracy: 0.6160\n",
            "Epoch 40/50\n",
            "50/50 - 6s - loss: 0.3800 - accuracy: 0.8130 - val_loss: 1.1026 - val_accuracy: 0.6450\n",
            "Epoch 41/50\n",
            "50/50 - 6s - loss: 0.4277 - accuracy: 0.7770 - val_loss: 0.9001 - val_accuracy: 0.5260\n",
            "Epoch 42/50\n",
            "50/50 - 6s - loss: 0.4330 - accuracy: 0.7860 - val_loss: 0.9278 - val_accuracy: 0.5830\n",
            "Epoch 43/50\n",
            "50/50 - 6s - loss: 0.3942 - accuracy: 0.8110 - val_loss: 0.9543 - val_accuracy: 0.6150\n",
            "Epoch 44/50\n",
            "50/50 - 6s - loss: 0.3837 - accuracy: 0.8100 - val_loss: 0.6615 - val_accuracy: 0.6680\n",
            "Epoch 45/50\n",
            "50/50 - 6s - loss: 0.3899 - accuracy: 0.8140 - val_loss: 0.6413 - val_accuracy: 0.6650\n",
            "Epoch 46/50\n",
            "50/50 - 6s - loss: 0.4240 - accuracy: 0.7950 - val_loss: 0.8209 - val_accuracy: 0.6230\n",
            "Epoch 47/50\n",
            "50/50 - 6s - loss: 0.3932 - accuracy: 0.7970 - val_loss: 1.0120 - val_accuracy: 0.5950\n",
            "Epoch 48/50\n",
            "50/50 - 6s - loss: 0.4112 - accuracy: 0.7990 - val_loss: 0.7961 - val_accuracy: 0.6100\n",
            "Epoch 49/50\n",
            "50/50 - 6s - loss: 0.3857 - accuracy: 0.8140 - val_loss: 1.0606 - val_accuracy: 0.6280\n",
            "Epoch 50/50\n",
            "50/50 - 6s - loss: 0.4292 - accuracy: 0.7990 - val_loss: 0.7605 - val_accuracy: 0.5620\n"
          ],
          "name": "stdout"
        }
      ]
    },
    {
      "cell_type": "markdown",
      "metadata": {
        "id": "sjMOxMJ8gX-z"
      },
      "source": [
        "VGG Net with Keras"
      ]
    },
    {
      "cell_type": "code",
      "metadata": {
        "colab": {
          "base_uri": "https://localhost:8080/"
        },
        "id": "AMKojYobKMcm",
        "outputId": "c3720ca0-0e9c-4e6d-dbf6-5e2e49c487c8"
      },
      "source": [
        "from keras.models import Sequential \r\n",
        "from keras.layers import Dense, Conv2D, MaxPooling2D, Dropout\r\n",
        "from keras.layers import Flatten, Activation\r\n",
        "custom_vgg = Sequential()\r\n",
        "custom_vgg.add(Conv2D(32, (3, 3), strides = 1, padding = \"same\", activation = \"relu\", input_shape = (150, 150, 3)))\r\n",
        "custom_vgg.add(Dropout(0.4))\r\n",
        "custom_vgg.add(Conv2D(32, (3, 3), strides = 1, padding = \"same\", activation = \"relu\"))\r\n",
        "custom_vgg.add(Dropout(0.4))\r\n",
        "custom_vgg.add(MaxPooling2D((2, 2)))\r\n",
        "\r\n",
        "custom_vgg.add(Conv2D(64, (3, 3), strides = 1, padding = \"same\", activation = \"relu\"))\r\n",
        "custom_vgg.add(Dropout(0.4))\r\n",
        "custom_vgg.add(Conv2D(64, (3, 3), strides = 1, padding = \"same\", activation = \"relu\"))\r\n",
        "custom_vgg.add(Dropout(0.4))\r\n",
        "custom_vgg.add(MaxPooling2D((2, 2)))\r\n",
        "\r\n",
        "custom_vgg.add(Conv2D(128, (3, 3), strides = 1, padding = \"same\", activation = \"relu\"))\r\n",
        "custom_vgg.add(Dropout(0.4))\r\n",
        "custom_vgg.add(Conv2D(128, (3, 3), strides = 1, padding = \"same\", activation = \"relu\"))\r\n",
        "custom_vgg.add(Dropout(0.4))\r\n",
        "custom_vgg.add(MaxPooling2D((2, 2)))\r\n",
        "\r\n",
        "custom_vgg.add(Flatten())\r\n",
        "custom_vgg.add(Dense(1, activation = \"softmax\"))\r\n",
        "\r\n",
        "custom_vgg.compile(optimizer = \"adam\", loss = \"categorical_crossentropy\", metrics = [\"accuracy\"])\r\n",
        "\r\n",
        "custom_vgg.summary()"
      ],
      "execution_count": 71,
      "outputs": [
        {
          "output_type": "stream",
          "text": [
            "Model: \"sequential_1\"\n",
            "_________________________________________________________________\n",
            "Layer (type)                 Output Shape              Param #   \n",
            "=================================================================\n",
            "conv2d_4 (Conv2D)            (None, 150, 150, 32)      896       \n",
            "_________________________________________________________________\n",
            "dropout_1 (Dropout)          (None, 150, 150, 32)      0         \n",
            "_________________________________________________________________\n",
            "conv2d_5 (Conv2D)            (None, 150, 150, 32)      9248      \n",
            "_________________________________________________________________\n",
            "dropout_2 (Dropout)          (None, 150, 150, 32)      0         \n",
            "_________________________________________________________________\n",
            "max_pooling2d_4 (MaxPooling2 (None, 75, 75, 32)        0         \n",
            "_________________________________________________________________\n",
            "conv2d_6 (Conv2D)            (None, 75, 75, 64)        18496     \n",
            "_________________________________________________________________\n",
            "dropout_3 (Dropout)          (None, 75, 75, 64)        0         \n",
            "_________________________________________________________________\n",
            "conv2d_7 (Conv2D)            (None, 75, 75, 64)        36928     \n",
            "_________________________________________________________________\n",
            "dropout_4 (Dropout)          (None, 75, 75, 64)        0         \n",
            "_________________________________________________________________\n",
            "max_pooling2d_5 (MaxPooling2 (None, 37, 37, 64)        0         \n",
            "_________________________________________________________________\n",
            "conv2d_8 (Conv2D)            (None, 37, 37, 128)       73856     \n",
            "_________________________________________________________________\n",
            "dropout_5 (Dropout)          (None, 37, 37, 128)       0         \n",
            "_________________________________________________________________\n",
            "conv2d_9 (Conv2D)            (None, 37, 37, 128)       147584    \n",
            "_________________________________________________________________\n",
            "dropout_6 (Dropout)          (None, 37, 37, 128)       0         \n",
            "_________________________________________________________________\n",
            "max_pooling2d_6 (MaxPooling2 (None, 18, 18, 128)       0         \n",
            "_________________________________________________________________\n",
            "flatten_1 (Flatten)          (None, 41472)             0         \n",
            "_________________________________________________________________\n",
            "dense_2 (Dense)              (None, 1)                 41473     \n",
            "=================================================================\n",
            "Total params: 328,481\n",
            "Trainable params: 328,481\n",
            "Non-trainable params: 0\n",
            "_________________________________________________________________\n"
          ],
          "name": "stdout"
        }
      ]
    },
    {
      "cell_type": "code",
      "metadata": {
        "colab": {
          "base_uri": "https://localhost:8080/"
        },
        "id": "HC5vswzS_oAJ",
        "outputId": "9b22b98c-9fb6-4f43-cb4a-d0f415c21e80"
      },
      "source": [
        "history=custom_vgg.fit(train_generator, steps_per_epoch= 30, epochs=50, validation_data=validation_generator,validation_steps=50,verbose=2)"
      ],
      "execution_count": 75,
      "outputs": [
        {
          "output_type": "stream",
          "text": [
            "Epoch 1/50\n",
            "30/30 - 4s - loss: 0.0000e+00 - accuracy: 0.5333 - val_loss: 0.0000e+00 - val_accuracy: 0.4980\n",
            "Epoch 2/50\n",
            "30/30 - 4s - loss: 0.0000e+00 - accuracy: 0.5583 - val_loss: 0.0000e+00 - val_accuracy: 0.5140\n",
            "Epoch 3/50\n",
            "30/30 - 4s - loss: 0.0000e+00 - accuracy: 0.5533 - val_loss: 0.0000e+00 - val_accuracy: 0.5310\n",
            "Epoch 4/50\n",
            "30/30 - 4s - loss: 0.0000e+00 - accuracy: 0.5917 - val_loss: 0.0000e+00 - val_accuracy: 0.5160\n",
            "Epoch 5/50\n",
            "30/30 - 4s - loss: 0.0000e+00 - accuracy: 0.5533 - val_loss: 0.0000e+00 - val_accuracy: 0.5340\n",
            "Epoch 6/50\n",
            "30/30 - 4s - loss: 0.0000e+00 - accuracy: 0.5817 - val_loss: 0.0000e+00 - val_accuracy: 0.5020\n",
            "Epoch 7/50\n",
            "30/30 - 4s - loss: 0.0000e+00 - accuracy: 0.5567 - val_loss: 0.0000e+00 - val_accuracy: 0.5380\n",
            "Epoch 8/50\n",
            "30/30 - 4s - loss: 0.0000e+00 - accuracy: 0.6000 - val_loss: 0.0000e+00 - val_accuracy: 0.5060\n",
            "Epoch 9/50\n",
            "30/30 - 4s - loss: 0.0000e+00 - accuracy: 0.5967 - val_loss: 0.0000e+00 - val_accuracy: 0.5270\n",
            "Epoch 10/50\n",
            "30/30 - 4s - loss: 0.0000e+00 - accuracy: 0.5750 - val_loss: 0.0000e+00 - val_accuracy: 0.5390\n",
            "Epoch 11/50\n",
            "30/30 - 4s - loss: 0.0000e+00 - accuracy: 0.6017 - val_loss: 0.0000e+00 - val_accuracy: 0.5410\n",
            "Epoch 12/50\n",
            "30/30 - 4s - loss: 0.0000e+00 - accuracy: 0.6000 - val_loss: 0.0000e+00 - val_accuracy: 0.5240\n",
            "Epoch 13/50\n",
            "30/30 - 4s - loss: 0.0000e+00 - accuracy: 0.5667 - val_loss: 0.0000e+00 - val_accuracy: 0.5270\n",
            "Epoch 14/50\n",
            "30/30 - 4s - loss: 0.0000e+00 - accuracy: 0.5617 - val_loss: 0.0000e+00 - val_accuracy: 0.5600\n",
            "Epoch 15/50\n",
            "30/30 - 4s - loss: 0.0000e+00 - accuracy: 0.5433 - val_loss: 0.0000e+00 - val_accuracy: 0.5220\n",
            "Epoch 16/50\n",
            "30/30 - 4s - loss: 0.0000e+00 - accuracy: 0.5700 - val_loss: 0.0000e+00 - val_accuracy: 0.5110\n",
            "Epoch 17/50\n",
            "30/30 - 4s - loss: 0.0000e+00 - accuracy: 0.5850 - val_loss: 0.0000e+00 - val_accuracy: 0.5350\n",
            "Epoch 18/50\n",
            "30/30 - 4s - loss: 0.0000e+00 - accuracy: 0.5767 - val_loss: 0.0000e+00 - val_accuracy: 0.5310\n",
            "Epoch 19/50\n",
            "30/30 - 4s - loss: 0.0000e+00 - accuracy: 0.5733 - val_loss: 0.0000e+00 - val_accuracy: 0.5420\n",
            "Epoch 20/50\n",
            "30/30 - 4s - loss: 0.0000e+00 - accuracy: 0.5683 - val_loss: 0.0000e+00 - val_accuracy: 0.5410\n",
            "Epoch 21/50\n",
            "30/30 - 4s - loss: 0.0000e+00 - accuracy: 0.5517 - val_loss: 0.0000e+00 - val_accuracy: 0.5280\n",
            "Epoch 22/50\n",
            "30/30 - 4s - loss: 0.0000e+00 - accuracy: 0.5750 - val_loss: 0.0000e+00 - val_accuracy: 0.5280\n",
            "Epoch 23/50\n",
            "30/30 - 4s - loss: 0.0000e+00 - accuracy: 0.5833 - val_loss: 0.0000e+00 - val_accuracy: 0.5420\n",
            "Epoch 24/50\n",
            "30/30 - 4s - loss: 0.0000e+00 - accuracy: 0.5467 - val_loss: 0.0000e+00 - val_accuracy: 0.5220\n",
            "Epoch 25/50\n",
            "30/30 - 4s - loss: 0.0000e+00 - accuracy: 0.5917 - val_loss: 0.0000e+00 - val_accuracy: 0.5220\n",
            "Epoch 26/50\n",
            "30/30 - 4s - loss: 0.0000e+00 - accuracy: 0.5917 - val_loss: 0.0000e+00 - val_accuracy: 0.5040\n",
            "Epoch 27/50\n",
            "30/30 - 4s - loss: 0.0000e+00 - accuracy: 0.6200 - val_loss: 0.0000e+00 - val_accuracy: 0.5400\n",
            "Epoch 28/50\n",
            "30/30 - 4s - loss: 0.0000e+00 - accuracy: 0.6233 - val_loss: 0.0000e+00 - val_accuracy: 0.5030\n",
            "Epoch 29/50\n",
            "30/30 - 4s - loss: 0.0000e+00 - accuracy: 0.5917 - val_loss: 0.0000e+00 - val_accuracy: 0.5010\n",
            "Epoch 30/50\n",
            "30/30 - 4s - loss: 0.0000e+00 - accuracy: 0.5783 - val_loss: 0.0000e+00 - val_accuracy: 0.5330\n",
            "Epoch 31/50\n",
            "30/30 - 4s - loss: 0.0000e+00 - accuracy: 0.5817 - val_loss: 0.0000e+00 - val_accuracy: 0.5340\n",
            "Epoch 32/50\n",
            "30/30 - 4s - loss: 0.0000e+00 - accuracy: 0.5933 - val_loss: 0.0000e+00 - val_accuracy: 0.5380\n",
            "Epoch 33/50\n",
            "30/30 - 4s - loss: 0.0000e+00 - accuracy: 0.5817 - val_loss: 0.0000e+00 - val_accuracy: 0.5150\n",
            "Epoch 34/50\n",
            "30/30 - 4s - loss: 0.0000e+00 - accuracy: 0.5617 - val_loss: 0.0000e+00 - val_accuracy: 0.5260\n",
            "Epoch 35/50\n",
            "30/30 - 4s - loss: 0.0000e+00 - accuracy: 0.5600 - val_loss: 0.0000e+00 - val_accuracy: 0.5410\n",
            "Epoch 36/50\n",
            "30/30 - 4s - loss: 0.0000e+00 - accuracy: 0.5850 - val_loss: 0.0000e+00 - val_accuracy: 0.5140\n",
            "Epoch 37/50\n",
            "30/30 - 4s - loss: 0.0000e+00 - accuracy: 0.5933 - val_loss: 0.0000e+00 - val_accuracy: 0.5480\n",
            "Epoch 38/50\n",
            "30/30 - 4s - loss: 0.0000e+00 - accuracy: 0.5700 - val_loss: 0.0000e+00 - val_accuracy: 0.5430\n",
            "Epoch 39/50\n",
            "30/30 - 4s - loss: 0.0000e+00 - accuracy: 0.5600 - val_loss: 0.0000e+00 - val_accuracy: 0.5420\n",
            "Epoch 40/50\n",
            "30/30 - 4s - loss: 0.0000e+00 - accuracy: 0.5717 - val_loss: 0.0000e+00 - val_accuracy: 0.5310\n",
            "Epoch 41/50\n",
            "30/30 - 4s - loss: 0.0000e+00 - accuracy: 0.5967 - val_loss: 0.0000e+00 - val_accuracy: 0.5280\n",
            "Epoch 42/50\n",
            "30/30 - 4s - loss: 0.0000e+00 - accuracy: 0.6200 - val_loss: 0.0000e+00 - val_accuracy: 0.5550\n",
            "Epoch 43/50\n",
            "30/30 - 4s - loss: 0.0000e+00 - accuracy: 0.5867 - val_loss: 0.0000e+00 - val_accuracy: 0.4960\n",
            "Epoch 44/50\n",
            "30/30 - 4s - loss: 0.0000e+00 - accuracy: 0.5900 - val_loss: 0.0000e+00 - val_accuracy: 0.5150\n",
            "Epoch 45/50\n",
            "30/30 - 4s - loss: 0.0000e+00 - accuracy: 0.5283 - val_loss: 0.0000e+00 - val_accuracy: 0.5030\n",
            "Epoch 46/50\n",
            "30/30 - 4s - loss: 0.0000e+00 - accuracy: 0.5617 - val_loss: 0.0000e+00 - val_accuracy: 0.5050\n",
            "Epoch 47/50\n",
            "30/30 - 4s - loss: 0.0000e+00 - accuracy: 0.5733 - val_loss: 0.0000e+00 - val_accuracy: 0.5410\n",
            "Epoch 48/50\n",
            "30/30 - 4s - loss: 0.0000e+00 - accuracy: 0.5667 - val_loss: 0.0000e+00 - val_accuracy: 0.5400\n",
            "Epoch 49/50\n",
            "30/30 - 4s - loss: 0.0000e+00 - accuracy: 0.5717 - val_loss: 0.0000e+00 - val_accuracy: 0.5180\n",
            "Epoch 50/50\n",
            "30/30 - 4s - loss: 0.0000e+00 - accuracy: 0.6067 - val_loss: 0.0000e+00 - val_accuracy: 0.5570\n"
          ],
          "name": "stdout"
        }
      ]
    },
    {
      "cell_type": "code",
      "metadata": {
        "id": "KgFEaD9EKEUC"
      },
      "source": [
        ""
      ],
      "execution_count": null,
      "outputs": []
    },
    {
      "cell_type": "code",
      "metadata": {
        "colab": {
          "base_uri": "https://localhost:8080/",
          "height": 545
        },
        "id": "Rp4EdS3kKISD",
        "outputId": "c201ff0a-1497-4fac-9bb4-a9644d0506a1"
      },
      "source": [
        "import matplotlib.pyplot as plt\n",
        "acc = history.history['accuracy']\n",
        "val_acc = history.history['val_accuracy']\n",
        "loss = history.history['loss']\n",
        "val_loss = history.history['val_loss']\n",
        "\n",
        "epochs = range(len(acc))\n",
        "\n",
        "plt.plot(epochs, acc, 'bo', label='Training accuracy')\n",
        "plt.plot(epochs, val_acc, 'r', label='Validation accuracy')\n",
        "plt.title('Training and validation accuracy')\n",
        "\n",
        "plt.figure()\n",
        "\n",
        "plt.plot(epochs, loss, 'bo', label='Training Loss')\n",
        "plt.plot(epochs, val_loss, 'r', label='Validation Loss')\n",
        "plt.title('Training and validation loss')\n",
        "plt.legend()\n",
        "\n",
        "plt.show()"
      ],
      "execution_count": 77,
      "outputs": [
        {
          "output_type": "display_data",
          "data": {
            "image/png": "[encoded data removed]",
            "text/plain": [
              "<Figure size 432x288 with 1 Axes>"
            ]
          },
          "metadata": {
            "tags": [],
            "needs_background": "light"
          }
        },
        {
          "output_type": "display_data",
          "data": {
            "image/png": "[encoded data removed]",
            "text/plain": [
              "<Figure size 432x288 with 1 Axes>"
            ]
          },
          "metadata": {
            "tags": [],
            "needs_background": "light"
          }
        }
      ]
    },
    {
      "cell_type": "markdown",
      "metadata": {
        "id": "UJNH7O247lpP"
      },
      "source": [
        "ResNet (Residual Network) //connecting a layer to the previous as well as previous of previous for better incorporation.\r\n"
      ]
    },
    {
      "cell_type": "code",
      "metadata": {
        "colab": {
          "base_uri": "https://localhost:8080/"
        },
        "id": "2jphr8EC9KCU",
        "outputId": "2e4a44c2-8b4c-4f54-f51d-e525f778b72c"
      },
      "source": [
        "model_AlexNet=keras.models.Sequential([\r\n",
        "    keras.layers.Conv2D(filters=96, kernel_size=(11,11), strides=(4,4), activation='relu', input_shape=(150,150,3)),\r\n",
        "    keras.layers.BatchNormalization(),\r\n",
        "    keras.layers.MaxPool2D(pool_size=(3,3), strides=(2,2)),\r\n",
        "    keras.layers.Conv2D(filters=256, kernel_size=(5,5), strides=(1,1), activation='relu', padding=\"same\"),\r\n",
        "    keras.layers.BatchNormalization(),\r\n",
        "    keras.layers.MaxPool2D(pool_size=(3,3), strides=(2,2)),\r\n",
        "    keras.layers.Conv2D(filters=384, kernel_size=(3,3), strides=(1,1), activation='relu', padding=\"same\"),\r\n",
        "    keras.layers.BatchNormalization(),\r\n",
        "    keras.layers.Conv2D(filters=384, kernel_size=(1,1), strides=(1,1), activation='relu', padding=\"same\"),\r\n",
        "    keras.layers.BatchNormalization(),\r\n",
        "    keras.layers.Conv2D(filters=256, kernel_size=(1,1), strides=(1,1), activation='relu', padding=\"same\"),\r\n",
        "    keras.layers.BatchNormalization(),\r\n",
        "    keras.layers.MaxPool2D(pool_size=(3,3), strides=(2,2)),\r\n",
        "    keras.layers.Flatten(),\r\n",
        "    keras.layers.Dense(4096, activation='relu'),\r\n",
        "    keras.layers.Dropout(0.3),\r\n",
        "    keras.layers.Dense(4096, activation='relu'),\r\n",
        "    keras.layers.Dropout(0.3),\r\n",
        "    keras.layers.Dense(1024, activation='relu'),\r\n",
        "\r\n",
        "    keras.layers.Dense(1, activation='softmax')])\r\n",
        "\r\n",
        "\r\n",
        "model_AlexNet.compile(loss='binary_crossentropy',optimizer=tf.optimizers.SGD(lr=0.001),metrics=['accuracy'])\r\n",
        "model_AlexNet.summary()"
      ],
      "execution_count": 80,
      "outputs": [
        {
          "output_type": "stream",
          "text": [
            "Model: \"sequential_2\"\n",
            "_________________________________________________________________\n",
            "Layer (type)                 Output Shape              Param #   \n",
            "=================================================================\n",
            "conv2d_10 (Conv2D)           (None, 35, 35, 96)        34944     \n",
            "_________________________________________________________________\n",
            "batch_normalization (BatchNo (None, 35, 35, 96)        384       \n",
            "_________________________________________________________________\n",
            "max_pooling2d_7 (MaxPooling2 (None, 17, 17, 96)        0         \n",
            "_________________________________________________________________\n",
            "conv2d_11 (Conv2D)           (None, 17, 17, 256)       614656    \n",
            "_________________________________________________________________\n",
            "batch_normalization_1 (Batch (None, 17, 17, 256)       1024      \n",
            "_________________________________________________________________\n",
            "max_pooling2d_8 (MaxPooling2 (None, 8, 8, 256)         0         \n",
            "_________________________________________________________________\n",
            "conv2d_12 (Conv2D)           (None, 8, 8, 384)         885120    \n",
            "_________________________________________________________________\n",
            "batch_normalization_2 (Batch (None, 8, 8, 384)         1536      \n",
            "_________________________________________________________________\n",
            "conv2d_13 (Conv2D)           (None, 8, 8, 384)         147840    \n",
            "_________________________________________________________________\n",
            "batch_normalization_3 (Batch (None, 8, 8, 384)         1536      \n",
            "_________________________________________________________________\n",
            "conv2d_14 (Conv2D)           (None, 8, 8, 256)         98560     \n",
            "_________________________________________________________________\n",
            "batch_normalization_4 (Batch (None, 8, 8, 256)         1024      \n",
            "_________________________________________________________________\n",
            "max_pooling2d_9 (MaxPooling2 (None, 3, 3, 256)         0         \n",
            "_________________________________________________________________\n",
            "flatten_2 (Flatten)          (None, 2304)              0         \n",
            "_________________________________________________________________\n",
            "dense_3 (Dense)              (None, 4096)              9441280   \n",
            "_________________________________________________________________\n",
            "dropout_7 (Dropout)          (None, 4096)              0         \n",
            "_________________________________________________________________\n",
            "dense_4 (Dense)              (None, 4096)              16781312  \n",
            "_________________________________________________________________\n",
            "dropout_8 (Dropout)          (None, 4096)              0         \n",
            "_________________________________________________________________\n",
            "dense_5 (Dense)              (None, 1024)              4195328   \n",
            "_________________________________________________________________\n",
            "dense_6 (Dense)              (None, 1)                 1025      \n",
            "=================================================================\n",
            "Total params: 32,205,569\n",
            "Trainable params: 32,202,817\n",
            "Non-trainable params: 2,752\n",
            "_________________________________________________________________\n"
          ],
          "name": "stdout"
        }
      ]
    },
    {
      "cell_type": "code",
      "metadata": {
        "colab": {
          "base_uri": "https://localhost:8080/"
        },
        "id": "orDvwhX0b01d",
        "outputId": "400ea422-087f-48f5-bc19-1a5e9cb0d14b"
      },
      "source": [
        "history=model_AlexNet.fit(train_generator,epochs=50, steps_per_epoch=50,validation_data=validation_generator,validation_steps=20,verbose=2)"
      ],
      "execution_count": 82,
      "outputs": [
        {
          "output_type": "stream",
          "text": [
            "Epoch 1/50\n",
            "50/50 - 6s - loss: 0.6754 - accuracy: 0.5840 - val_loss: 0.7689 - val_accuracy: 0.5675\n",
            "Epoch 2/50\n",
            "50/50 - 6s - loss: 0.6782 - accuracy: 0.5710 - val_loss: 0.7668 - val_accuracy: 0.5200\n",
            "Epoch 3/50\n",
            "50/50 - 6s - loss: 0.6605 - accuracy: 0.5840 - val_loss: 0.7203 - val_accuracy: 0.5025\n",
            "Epoch 4/50\n",
            "50/50 - 6s - loss: 0.6616 - accuracy: 0.5900 - val_loss: 0.7871 - val_accuracy: 0.5500\n",
            "Epoch 5/50\n",
            "50/50 - 6s - loss: 0.6663 - accuracy: 0.5940 - val_loss: 0.7863 - val_accuracy: 0.5475\n",
            "Epoch 6/50\n",
            "50/50 - 6s - loss: 0.6231 - accuracy: 0.5920 - val_loss: 0.7809 - val_accuracy: 0.5500\n",
            "Epoch 7/50\n",
            "50/50 - 6s - loss: 0.6550 - accuracy: 0.5720 - val_loss: 0.7893 - val_accuracy: 0.5500\n",
            "Epoch 8/50\n",
            "50/50 - 6s - loss: 0.6358 - accuracy: 0.5840 - val_loss: 0.8443 - val_accuracy: 0.5125\n",
            "Epoch 9/50\n",
            "50/50 - 6s - loss: 0.6090 - accuracy: 0.6370 - val_loss: 0.8078 - val_accuracy: 0.5175\n",
            "Epoch 10/50\n",
            "50/50 - 6s - loss: 0.6303 - accuracy: 0.5580 - val_loss: 0.7523 - val_accuracy: 0.5225\n",
            "Epoch 11/50\n",
            "50/50 - 6s - loss: 0.6352 - accuracy: 0.5760 - val_loss: 0.8174 - val_accuracy: 0.5925\n",
            "Epoch 12/50\n",
            "50/50 - 6s - loss: 0.6485 - accuracy: 0.5680 - val_loss: 1.0388 - val_accuracy: 0.5250\n",
            "Epoch 13/50\n",
            "50/50 - 6s - loss: 0.5986 - accuracy: 0.5670 - val_loss: 0.8702 - val_accuracy: 0.5525\n",
            "Epoch 14/50\n",
            "50/50 - 6s - loss: 0.6114 - accuracy: 0.5940 - val_loss: 0.8593 - val_accuracy: 0.5325\n",
            "Epoch 15/50\n",
            "50/50 - 6s - loss: 0.5843 - accuracy: 0.5660 - val_loss: 0.8537 - val_accuracy: 0.5475\n",
            "Epoch 16/50\n",
            "50/50 - 6s - loss: 0.5974 - accuracy: 0.5680 - val_loss: 0.9416 - val_accuracy: 0.5450\n",
            "Epoch 17/50\n",
            "50/50 - 6s - loss: 0.5886 - accuracy: 0.5710 - val_loss: 0.9937 - val_accuracy: 0.5425\n",
            "Epoch 18/50\n",
            "50/50 - 6s - loss: 0.5718 - accuracy: 0.5410 - val_loss: 0.7630 - val_accuracy: 0.5125\n",
            "Epoch 19/50\n",
            "50/50 - 6s - loss: 0.6021 - accuracy: 0.5790 - val_loss: 0.7060 - val_accuracy: 0.5450\n",
            "Epoch 20/50\n",
            "50/50 - 6s - loss: 0.5822 - accuracy: 0.5730 - val_loss: 0.9257 - val_accuracy: 0.5175\n",
            "Epoch 21/50\n",
            "50/50 - 6s - loss: 0.5878 - accuracy: 0.5520 - val_loss: 0.9941 - val_accuracy: 0.5500\n",
            "Epoch 22/50\n",
            "50/50 - 6s - loss: 0.5942 - accuracy: 0.5690 - val_loss: 0.9538 - val_accuracy: 0.4875\n",
            "Epoch 23/50\n",
            "50/50 - 6s - loss: 0.5827 - accuracy: 0.6056 - val_loss: 1.0194 - val_accuracy: 0.5500\n",
            "Epoch 24/50\n",
            "50/50 - 6s - loss: 0.5877 - accuracy: 0.5420 - val_loss: 0.9258 - val_accuracy: 0.5475\n",
            "Epoch 25/50\n",
            "50/50 - 6s - loss: 0.5827 - accuracy: 0.5770 - val_loss: 0.7515 - val_accuracy: 0.4875\n",
            "Epoch 26/50\n",
            "50/50 - 6s - loss: 0.5677 - accuracy: 0.5430 - val_loss: 0.7620 - val_accuracy: 0.5325\n",
            "Epoch 27/50\n",
            "50/50 - 6s - loss: 0.5702 - accuracy: 0.5830 - val_loss: 0.6723 - val_accuracy: 0.5175\n",
            "Epoch 28/50\n",
            "50/50 - 6s - loss: 0.5828 - accuracy: 0.5690 - val_loss: 0.8067 - val_accuracy: 0.5700\n",
            "Epoch 29/50\n",
            "50/50 - 6s - loss: 0.5747 - accuracy: 0.6030 - val_loss: 1.0710 - val_accuracy: 0.4950\n",
            "Epoch 30/50\n",
            "50/50 - 6s - loss: 0.5582 - accuracy: 0.5870 - val_loss: 1.1440 - val_accuracy: 0.5700\n",
            "Epoch 31/50\n",
            "50/50 - 6s - loss: 0.5829 - accuracy: 0.5670 - val_loss: 0.7177 - val_accuracy: 0.5075\n",
            "Epoch 32/50\n",
            "50/50 - 6s - loss: 0.5641 - accuracy: 0.5970 - val_loss: 0.8666 - val_accuracy: 0.5225\n",
            "Epoch 33/50\n",
            "50/50 - 6s - loss: 0.5753 - accuracy: 0.5810 - val_loss: 1.1223 - val_accuracy: 0.5275\n",
            "Epoch 34/50\n",
            "50/50 - 6s - loss: 0.5243 - accuracy: 0.5930 - val_loss: 1.0971 - val_accuracy: 0.5450\n",
            "Epoch 35/50\n",
            "50/50 - 6s - loss: 0.5461 - accuracy: 0.5870 - val_loss: 0.7402 - val_accuracy: 0.5350\n",
            "Epoch 36/50\n",
            "50/50 - 6s - loss: 0.5702 - accuracy: 0.5790 - val_loss: 1.0600 - val_accuracy: 0.5475\n",
            "Epoch 37/50\n",
            "50/50 - 6s - loss: 0.5252 - accuracy: 0.5820 - val_loss: 1.1308 - val_accuracy: 0.5175\n",
            "Epoch 38/50\n",
            "50/50 - 6s - loss: 0.5569 - accuracy: 0.5670 - val_loss: 0.9053 - val_accuracy: 0.5425\n",
            "Epoch 39/50\n",
            "50/50 - 6s - loss: 0.5537 - accuracy: 0.5900 - val_loss: 1.1108 - val_accuracy: 0.5525\n",
            "Epoch 40/50\n",
            "50/50 - 6s - loss: 0.5721 - accuracy: 0.5710 - val_loss: 0.7734 - val_accuracy: 0.5650\n",
            "Epoch 41/50\n",
            "50/50 - 6s - loss: 0.5296 - accuracy: 0.5650 - val_loss: 0.9166 - val_accuracy: 0.5250\n",
            "Epoch 42/50\n",
            "50/50 - 6s - loss: 0.5519 - accuracy: 0.5880 - val_loss: 1.0002 - val_accuracy: 0.5625\n",
            "Epoch 43/50\n",
            "50/50 - 6s - loss: 0.5361 - accuracy: 0.5900 - val_loss: 0.9271 - val_accuracy: 0.5200\n",
            "Epoch 44/50\n",
            "50/50 - 6s - loss: 0.5834 - accuracy: 0.5680 - val_loss: 0.7974 - val_accuracy: 0.5525\n",
            "Epoch 45/50\n",
            "50/50 - 6s - loss: 0.5344 - accuracy: 0.5940 - val_loss: 1.2652 - val_accuracy: 0.5300\n",
            "Epoch 46/50\n",
            "50/50 - 6s - loss: 0.5373 - accuracy: 0.5860 - val_loss: 0.8949 - val_accuracy: 0.5350\n",
            "Epoch 47/50\n",
            "50/50 - 6s - loss: 0.5376 - accuracy: 0.5460 - val_loss: 1.0630 - val_accuracy: 0.5450\n",
            "Epoch 48/50\n",
            "50/50 - 6s - loss: 0.5018 - accuracy: 0.5630 - val_loss: 1.1252 - val_accuracy: 0.5125\n",
            "Epoch 49/50\n",
            "50/50 - 6s - loss: 0.5374 - accuracy: 0.5880 - val_loss: 0.8711 - val_accuracy: 0.5650\n",
            "Epoch 50/50\n",
            "50/50 - 6s - loss: 0.5426 - accuracy: 0.5980 - val_loss: 0.7136 - val_accuracy: 0.5600\n"
          ],
          "name": "stdout"
        }
      ]
    },
    {
      "cell_type": "code",
      "metadata": {
        "id": "OqdTZoUoDKzp"
      },
      "source": [
        ""
      ],
      "execution_count": null,
      "outputs": []
    },
    {
      "cell_type": "code",
      "metadata": {
        "colab": {
          "base_uri": "https://localhost:8080/",
          "height": 545
        },
        "id": "GZWPcmKWO303",
        "outputId": "e2f72989-3f40-47a7-e734-803da1ca0526"
      },
      "source": [
        "import matplotlib.pyplot as plt\n",
        "acc = history.history['accuracy']\n",
        "val_acc = history.history['val_accuracy']\n",
        "loss = history.history['loss']\n",
        "val_loss = history.history['val_loss']\n",
        "\n",
        "epochs = range(len(acc))\n",
        "\n",
        "plt.plot(epochs, acc, 'bo', label='Training accuracy')\n",
        "plt.plot(epochs, val_acc, 'r', label='Validation accuracy')\n",
        "plt.title('Training and validation accuracy')\n",
        "\n",
        "plt.figure()\n",
        "\n",
        "plt.plot(epochs, loss, 'bo', label='Training Loss')\n",
        "plt.plot(epochs, val_loss, 'r', label='Validation Loss')\n",
        "plt.title('Training and validation loss')\n",
        "plt.legend()\n",
        "\n",
        "plt.show()"
      ],
      "execution_count": 83,
      "outputs": [
        {
          "output_type": "display_data",
          "data": {
            "image/png": "[encoded data removed]",
            "text/plain": [
              "<Figure size 432x288 with 1 Axes>"
            ]
          },
          "metadata": {
            "tags": [],
            "needs_background": "light"
          }
        },
        {
          "output_type": "display_data",
          "data": {
            "image/png": "[encoded data removed]",
            "text/plain": [
              "<Figure size 432x288 with 1 Axes>"
            ]
          },
          "metadata": {
            "tags": [],
            "needs_background": "light"
          }
        }
      ]
    },
    {
      "cell_type": "code",
      "metadata": {
        "colab": {
          "base_uri": "https://localhost:8080/"
        },
        "id": "2Q446tFFu9pD",
        "outputId": "4736cfd9-9dc8-49b0-8820-99f25cd3d09b"
      },
      "source": [
        "import time\r\n",
        "t = time.time()\r\n",
        "export_path_keras = \"./{}.h5\".format(int(t))\r\n",
        "print(export_path_keras)\r\n",
        "model_AlexNet.save(export_path_keras)"
      ],
      "execution_count": 84,
      "outputs": [
        {
          "output_type": "stream",
          "text": [
            "./1611941883.h5\n"
          ],
          "name": "stdout"
        }
      ]
    },
    {
      "cell_type": "markdown",
      "metadata": {
        "id": "hvNCNFf-Yg2o"
      },
      "source": [
        "#Inception"
      ]
    },
    {
      "cell_type": "code",
      "metadata": {
        "colab": {
          "base_uri": "https://localhost:8080/",
          "height": 374
        },
        "id": "BLGPedjHGcEQ",
        "outputId": "138769c2-7338-44b2-c1d4-918669f8fe4f"
      },
      "source": [
        "from keras.models import Model\r\n",
        "from keras.layers import Input\r\n",
        "from keras.layers import Conv2D\r\n",
        "from keras.layers import MaxPooling2D\r\n",
        "from keras.layers.merge import concatenate\r\n",
        "from keras.utils import plot_model\r\n",
        " \r\n",
        "# function for creating a projected inception module\r\n",
        "def inception_module(layer_in, f1, f2_in, f2_out, f3_in, f3_out, f4_out):\r\n",
        "\t# 1x1 conv\r\n",
        "\tconv1 = Conv2D(f1, (1,1), padding='same', activation='relu')(layer_in)\r\n",
        "\t# 3x3 conv\r\n",
        "\tconv3 = Conv2D(f2_in, (1,1), padding='same', activation='relu')(layer_in)\r\n",
        "\tconv3 = Conv2D(f2_out, (3,3), padding='same', activation='relu')(conv3)\r\n",
        "\t# 5x5 conv\r\n",
        "\tconv5 = Conv2D(f3_in, (1,1), padding='same', activation='relu')(layer_in)\r\n",
        "\tconv5 = Conv2D(f3_out, (5,5), padding='same', activation='relu')(conv5)\r\n",
        "\t# 3x3 max pooling\r\n",
        "\tpool = MaxPooling2D((3,3), strides=(1,1), padding='same')(layer_in)\r\n",
        "\tpool = Conv2D(f4_out, (1,1), padding='same', activation='relu')(pool)\r\n",
        "\t# concatenate filters, assumes filters/channels last\r\n",
        "\tlayer_out = concatenate([conv1, conv3, conv5, pool], axis=-1)\r\n",
        "\treturn layer_out\r\n",
        " \r\n",
        "# define model input\r\n",
        "visible = Input(shape=(150, 150, 3))\r\n",
        "# add inception block 1\r\n",
        "layer = inception_module(visible, 64, 96, 128, 16, 32, 32)\r\n",
        "# add inception block 1\r\n",
        "layer = inception_module(layer, 128, 128, 192, 32, 96, 64)\r\n",
        "# create model\r\n",
        "\r\n",
        "\r\n",
        "\r\n",
        "\r\n",
        "# summarize model\r\n",
        "\r\n",
        "\r\n",
        "\r\n"
      ],
      "execution_count": 107,
      "outputs": [
        {
          "output_type": "error",
          "ename": "TypeError",
          "evalue": "ignored",
          "traceback": [
            "\u001b[0;31m---------------------------------------------------------------------------\u001b[0m",
            "\u001b[0;31mTypeError\u001b[0m                                 Traceback (most recent call last)",
            "\u001b[0;32m<ipython-input-107-542147da76d4>\u001b[0m in \u001b[0;36m<module>\u001b[0;34m()\u001b[0m\n\u001b[1;32m     32\u001b[0m \u001b[0mmodel4\u001b[0m \u001b[0;34m=\u001b[0m \u001b[0mModel\u001b[0m\u001b[0;34m(\u001b[0m\u001b[0minputs\u001b[0m\u001b[0;34m=\u001b[0m\u001b[0mvisible\u001b[0m\u001b[0;34m,\u001b[0m \u001b[0moutputs\u001b[0m\u001b[0;34m=\u001b[0m\u001b[0mlayer\u001b[0m\u001b[0;34m)\u001b[0m\u001b[0;34m\u001b[0m\u001b[0;34m\u001b[0m\u001b[0m\n\u001b[1;32m     33\u001b[0m model4=tf.keras.models.Sequential([ \n\u001b[0;32m---> 34\u001b[0;31m                                    tf.keras.layers.Flatten()(model4)])\n\u001b[0m\u001b[1;32m     35\u001b[0m \u001b[0;34m\u001b[0m\u001b[0m\n\u001b[1;32m     36\u001b[0m \u001b[0;34m\u001b[0m\u001b[0m\n",
            "\u001b[0;32m/usr/local/lib/python3.6/dist-packages/tensorflow/python/keras/engine/base_layer.py\u001b[0m in \u001b[0;36m__call__\u001b[0;34m(self, *args, **kwargs)\u001b[0m\n\u001b[1;32m    996\u001b[0m         \u001b[0minputs\u001b[0m \u001b[0;34m=\u001b[0m \u001b[0mself\u001b[0m\u001b[0;34m.\u001b[0m\u001b[0m_maybe_cast_inputs\u001b[0m\u001b[0;34m(\u001b[0m\u001b[0minputs\u001b[0m\u001b[0;34m,\u001b[0m \u001b[0minput_list\u001b[0m\u001b[0;34m)\u001b[0m\u001b[0;34m\u001b[0m\u001b[0;34m\u001b[0m\u001b[0m\n\u001b[1;32m    997\u001b[0m \u001b[0;34m\u001b[0m\u001b[0m\n\u001b[0;32m--> 998\u001b[0;31m       \u001b[0minput_spec\u001b[0m\u001b[0;34m.\u001b[0m\u001b[0massert_input_compatibility\u001b[0m\u001b[0;34m(\u001b[0m\u001b[0mself\u001b[0m\u001b[0;34m.\u001b[0m\u001b[0minput_spec\u001b[0m\u001b[0;34m,\u001b[0m \u001b[0minputs\u001b[0m\u001b[0;34m,\u001b[0m \u001b[0mself\u001b[0m\u001b[0;34m.\u001b[0m\u001b[0mname\u001b[0m\u001b[0;34m)\u001b[0m\u001b[0;34m\u001b[0m\u001b[0;34m\u001b[0m\u001b[0m\n\u001b[0m\u001b[1;32m    999\u001b[0m       \u001b[0;32mif\u001b[0m \u001b[0meager\u001b[0m\u001b[0;34m:\u001b[0m\u001b[0;34m\u001b[0m\u001b[0;34m\u001b[0m\u001b[0m\n\u001b[1;32m   1000\u001b[0m         \u001b[0mcall_fn\u001b[0m \u001b[0;34m=\u001b[0m \u001b[0mself\u001b[0m\u001b[0;34m.\u001b[0m\u001b[0mcall\u001b[0m\u001b[0;34m\u001b[0m\u001b[0;34m\u001b[0m\u001b[0m\n",
            "\u001b[0;32m/usr/local/lib/python3.6/dist-packages/tensorflow/python/keras/engine/input_spec.py\u001b[0m in \u001b[0;36massert_input_compatibility\u001b[0;34m(input_spec, inputs, layer_name)\u001b[0m\n\u001b[1;32m    199\u001b[0m     \u001b[0;31m# have a `shape` attribute.\u001b[0m\u001b[0;34m\u001b[0m\u001b[0;34m\u001b[0m\u001b[0;34m\u001b[0m\u001b[0m\n\u001b[1;32m    200\u001b[0m     \u001b[0;32mif\u001b[0m \u001b[0;32mnot\u001b[0m \u001b[0mhasattr\u001b[0m\u001b[0;34m(\u001b[0m\u001b[0mx\u001b[0m\u001b[0;34m,\u001b[0m \u001b[0;34m'shape'\u001b[0m\u001b[0;34m)\u001b[0m\u001b[0;34m:\u001b[0m\u001b[0;34m\u001b[0m\u001b[0;34m\u001b[0m\u001b[0m\n\u001b[0;32m--> 201\u001b[0;31m       \u001b[0;32mraise\u001b[0m \u001b[0mTypeError\u001b[0m\u001b[0;34m(\u001b[0m\u001b[0;34m'Inputs to a layer should be tensors. Got: %s'\u001b[0m \u001b[0;34m%\u001b[0m \u001b[0;34m(\u001b[0m\u001b[0mx\u001b[0m\u001b[0;34m,\u001b[0m\u001b[0;34m)\u001b[0m\u001b[0;34m)\u001b[0m\u001b[0;34m\u001b[0m\u001b[0;34m\u001b[0m\u001b[0m\n\u001b[0m\u001b[1;32m    202\u001b[0m \u001b[0;34m\u001b[0m\u001b[0m\n\u001b[1;32m    203\u001b[0m   \u001b[0;32mif\u001b[0m \u001b[0mlen\u001b[0m\u001b[0;34m(\u001b[0m\u001b[0minputs\u001b[0m\u001b[0;34m)\u001b[0m \u001b[0;34m!=\u001b[0m \u001b[0mlen\u001b[0m\u001b[0;34m(\u001b[0m\u001b[0minput_spec\u001b[0m\u001b[0;34m)\u001b[0m\u001b[0;34m:\u001b[0m\u001b[0;34m\u001b[0m\u001b[0;34m\u001b[0m\u001b[0m\n",
            "\u001b[0;31mTypeError\u001b[0m: Inputs to a layer should be tensors. Got: <tensorflow.python.keras.engine.functional.Functional object at 0x7f95c4738a20>"
          ]
        }
      ]
    },
    {
      "cell_type": "code",
      "metadata": {
        "colab": {
          "base_uri": "https://localhost:8080/"
        },
        "id": "wdNK_9C9gjrn",
        "outputId": "88a90e6e-ec86-4703-deb6-88463c401cab"
      },
      "source": [
        "from tensorflow.keras.optimizers import RMSprop \r\n",
        "from tensorflow.keras.preprocessing.image import ImageDataGenerator \r\n",
        "from tensorflow.keras import layers \r\n",
        "from tensorflow.keras import Model \r\n",
        "from tensorflow.keras.applications.inception_v3 import InceptionV3 \r\n",
        "from tensorflow.keras.optimizers import RMSprop \r\n",
        "\r\n",
        "base_model = InceptionV3(input_shape = (150, 150, 3),  \r\n",
        "                                include_top = False,  \r\n",
        "                                weights = 'imagenet') \r\n",
        "for layer in base_model.layers: \r\n",
        "  layer.trainable = False\r\n",
        "  \r\n",
        "#stop training is model accuracy reached 99% \r\n",
        "class myCallback(tf.keras.callbacks.Callback): \r\n",
        "  def on_epoch_end(self, epoch, logs={}): \r\n",
        "    if(logs.get('acc')>0.99): \r\n",
        "      self.model.stop_training = True\r\n",
        "\r\n",
        "\r\n",
        "x = layers.Flatten()(base_model.output) \r\n",
        "x = layers.Dense(1024, activation='relu')(x) \r\n",
        "x = layers.Dropout(0.2)(x)                   \r\n",
        "x = layers.Dense  (1, activation='sigmoid')(x)            \r\n",
        "  \r\n",
        "model5 = Model( base_model.input, x)  \r\n",
        "  \r\n",
        "model5.compile(optimizer = RMSprop(lr=0.0001),loss = 'binary_crossentropy',metrics = ['acc']) \r\n",
        "callbacks = myCallback() \r\n",
        "  \r\n",
        "history = model5.fit( \r\n",
        "            train_generator, \r\n",
        "            validation_data = validation_generator, \r\n",
        "            steps_per_epoch = 100, \r\n",
        "            epochs = 30, \r\n",
        "            validation_steps = 50, \r\n",
        "            verbose = 2, \r\n",
        "            callbacks=[callbacks]) "
      ],
      "execution_count": 19,
      "outputs": [
        {
          "output_type": "stream",
          "text": [
            "Epoch 1/30\n",
            "100/100 - 17s - loss: 1.3647 - acc: 0.6665 - val_loss: 1.0216 - val_acc: 0.5730\n",
            "Epoch 2/30\n",
            "100/100 - 12s - loss: 0.6142 - acc: 0.7325 - val_loss: 0.5287 - val_acc: 0.7470\n",
            "Epoch 3/30\n",
            "100/100 - 12s - loss: 0.5669 - acc: 0.7565 - val_loss: 0.5330 - val_acc: 0.7890\n",
            "Epoch 4/30\n",
            "100/100 - 12s - loss: 0.5476 - acc: 0.7725 - val_loss: 0.9996 - val_acc: 0.6680\n",
            "Epoch 5/30\n",
            "100/100 - 12s - loss: 0.5030 - acc: 0.7825 - val_loss: 0.4695 - val_acc: 0.8040\n",
            "Epoch 6/30\n",
            "100/100 - 12s - loss: 0.4792 - acc: 0.8015 - val_loss: 0.5134 - val_acc: 0.7700\n",
            "Epoch 7/30\n",
            "100/100 - 12s - loss: 0.4524 - acc: 0.8045 - val_loss: 0.6275 - val_acc: 0.7590\n",
            "Epoch 8/30\n",
            "100/100 - 12s - loss: 0.4372 - acc: 0.8165 - val_loss: 0.5152 - val_acc: 0.7820\n",
            "Epoch 9/30\n",
            "100/100 - 12s - loss: 0.4172 - acc: 0.8300 - val_loss: 0.5960 - val_acc: 0.7360\n",
            "Epoch 10/30\n",
            "100/100 - 12s - loss: 0.4298 - acc: 0.8185 - val_loss: 0.7904 - val_acc: 0.7300\n",
            "Epoch 11/30\n",
            "100/100 - 13s - loss: 0.4182 - acc: 0.8340 - val_loss: 0.7462 - val_acc: 0.7620\n",
            "Epoch 12/30\n",
            "100/100 - 12s - loss: 0.4098 - acc: 0.8430 - val_loss: 0.7207 - val_acc: 0.7700\n",
            "Epoch 13/30\n",
            "100/100 - 12s - loss: 0.3821 - acc: 0.8430 - val_loss: 0.6952 - val_acc: 0.7720\n",
            "Epoch 14/30\n",
            "100/100 - 12s - loss: 0.3996 - acc: 0.8375 - val_loss: 0.6323 - val_acc: 0.7820\n",
            "Epoch 15/30\n",
            "100/100 - 12s - loss: 0.3927 - acc: 0.8565 - val_loss: 0.5228 - val_acc: 0.8000\n",
            "Epoch 16/30\n",
            "100/100 - 12s - loss: 0.3587 - acc: 0.8630 - val_loss: 0.5140 - val_acc: 0.7940\n",
            "Epoch 17/30\n",
            "100/100 - 12s - loss: 0.4022 - acc: 0.8420 - val_loss: 0.6427 - val_acc: 0.7650\n",
            "Epoch 18/30\n",
            "100/100 - 12s - loss: 0.3806 - acc: 0.8545 - val_loss: 1.0640 - val_acc: 0.7230\n",
            "Epoch 19/30\n",
            "100/100 - 12s - loss: 0.3656 - acc: 0.8455 - val_loss: 0.4467 - val_acc: 0.8250\n",
            "Epoch 20/30\n",
            "100/100 - 12s - loss: 0.3772 - acc: 0.8500 - val_loss: 0.5916 - val_acc: 0.7890\n",
            "Epoch 21/30\n",
            "100/100 - 13s - loss: 0.3122 - acc: 0.8840 - val_loss: 1.0188 - val_acc: 0.7600\n",
            "Epoch 22/30\n",
            "100/100 - 12s - loss: 0.3486 - acc: 0.8685 - val_loss: 0.5423 - val_acc: 0.8050\n",
            "Epoch 23/30\n",
            "100/100 - 12s - loss: 0.3692 - acc: 0.8545 - val_loss: 0.5850 - val_acc: 0.7890\n",
            "Epoch 24/30\n",
            "100/100 - 12s - loss: 0.3310 - acc: 0.8690 - val_loss: 0.9227 - val_acc: 0.7620\n",
            "Epoch 25/30\n",
            "100/100 - 13s - loss: 0.3487 - acc: 0.8660 - val_loss: 0.5409 - val_acc: 0.7980\n",
            "Epoch 26/30\n",
            "100/100 - 12s - loss: 0.3174 - acc: 0.8750 - val_loss: 0.6703 - val_acc: 0.8010\n",
            "Epoch 27/30\n",
            "100/100 - 12s - loss: 0.3506 - acc: 0.8730 - val_loss: 0.5190 - val_acc: 0.8050\n",
            "Epoch 28/30\n",
            "100/100 - 12s - loss: 0.3058 - acc: 0.8830 - val_loss: 0.5706 - val_acc: 0.8110\n",
            "Epoch 29/30\n",
            "100/100 - 12s - loss: 0.3604 - acc: 0.8620 - val_loss: 0.8864 - val_acc: 0.7810\n",
            "Epoch 30/30\n",
            "100/100 - 12s - loss: 0.2851 - acc: 0.8915 - val_loss: 0.7989 - val_acc: 0.7610\n"
          ],
          "name": "stdout"
        }
      ]
    },
    {
      "cell_type": "code",
      "metadata": {
        "id": "IB3jj3DljtEU"
      },
      "source": [
        ""
      ],
      "execution_count": null,
      "outputs": []
    },
    {
      "cell_type": "code",
      "metadata": {
        "colab": {
          "base_uri": "https://localhost:8080/",
          "height": 545
        },
        "id": "TYqpER1nj3w0",
        "outputId": "af11801d-ce6f-49dc-d108-bd08e28dd3e7"
      },
      "source": [
        "import matplotlib.pyplot as plt\n",
        "acc = history.history['acc']\n",
        "val_acc = history.history['val_acc']\n",
        "loss = history.history['loss']\n",
        "val_loss = history.history['val_loss']\n",
        "\n",
        "epochs = range(len(acc))\n",
        "\n",
        "plt.plot(epochs, acc, 'bo', label='Training accuracy')\n",
        "plt.plot(epochs, val_acc, 'r', label='Validation accuracy')\n",
        "plt.title('Training and validation accuracy')\n",
        "\n",
        "plt.figure()\n",
        "\n",
        "plt.plot(epochs, loss, 'bo', label='Training Loss')\n",
        "plt.plot(epochs, val_loss, 'r', label='Validation Loss')\n",
        "plt.title('Training and validation loss')\n",
        "plt.legend()\n",
        "\n",
        "plt.show()"
      ],
      "execution_count": 21,
      "outputs": [
        {
          "output_type": "display_data",
          "data": {
            "image/png": "[encoded data removed]",
            "text/plain": [
              "<Figure size 432x288 with 1 Axes>"
            ]
          },
          "metadata": {
            "tags": [],
            "needs_background": "light"
          }
        },
        {
          "output_type": "display_data",
          "data": {
            "image/png": "[encoded data removed]",
            "text/plain": [
              "<Figure size 432x288 with 1 Axes>"
            ]
          },
          "metadata": {
            "tags": [],
            "needs_background": "light"
          }
        }
      ]
    },
    {
      "cell_type": "code",
      "metadata": {
        "id": "Ff1B93GwkbBH"
      },
      "source": [
        ""
      ],
      "execution_count": null,
      "outputs": []
    },
    {
      "cell_type": "code",
      "metadata": {
        "colab": {
          "base_uri": "https://localhost:8080/"
        },
        "id": "LGF8sr7Vmgl8",
        "outputId": "0f19f7ae-af26-48bc-f8fb-0b70a97e32d1"
      },
      "source": [
        "import time\r\n",
        "t = time.time()\r\n",
        "export_path_keras = \"./{}.h5\".format(int(t))\r\n",
        "print(export_path_keras)\r\n",
        "model5.save(export_path_keras)"
      ],
      "execution_count": 20,
      "outputs": [
        {
          "output_type": "stream",
          "text": [
            "./1611955875.h5\n"
          ],
          "name": "stdout"
        }
      ]
    },
    {
      "cell_type": "code",
      "metadata": {
        "colab": {
          "base_uri": "https://localhost:8080/"
        },
        "id": "8Kzy9QAUkgaK",
        "outputId": "4d1ccc6e-922d-4c71-ca6b-21ed642a85f0"
      },
      "source": [
        "import time\r\n",
        "t = time.time()\r\n",
        "export_path_keras = \"./{}.h5\".format(int(t))\r\n",
        "print(export_path_keras)\r\n",
        ".save(export_path_keras)"
      ],
      "execution_count": 118,
      "outputs": [
        {
          "output_type": "stream",
          "text": [
            "./1611947709.h5\n"
          ],
          "name": "stdout"
        }
      ]
    },
    {
      "cell_type": "code",
      "metadata": {
        "id": "imBSFUJweSo4"
      },
      "source": [
        "model= tf.keras.models.Sequential([\r\n",
        "       tf.keras.layers.Conv2D(32,(3,3),activation='relu',input_shape=(150,150,3)),\r\n",
        "       tf.keras.layers.MaxPooling2D(2,2),\r\n",
        "       tf.keras.layers.Conv2D(64,(3,3),activation='relu'),\r\n",
        "       tf.keras.layers.MaxPooling2D(2,2),\r\n",
        "       tf.keras.layers.Conv2D(128,(3,3),activation='relu'),\r\n",
        "       tf.keras.layers.MaxPooling2D(2,2),\r\n",
        "       tf.keras.layers.Conv2D(128,(3,3),activation='relu'),\r\n",
        "       tf.keras.layers.MaxPooling2D(2,2),\r\n",
        "       tf.keras.layers.Dropout(0.5),\r\n",
        "       tf.keras.layers.Flatten(),\r\n",
        "       tf.keras.layers.Dense(512, activation='relu'),\r\n",
        "       tf.keras.layers.Dense(1,activation ='sigmoid')\r\n",
        "\r\n",
        "])"
      ],
      "execution_count": null,
      "outputs": []
    },
    {
      "cell_type": "code",
      "metadata": {
        "id": "1srnkvppaPuQ"
      },
      "source": [
        "model4.compile(loss='binary_crossentropy',optimizer='adam',metrics=['accuracy'])"
      ],
      "execution_count": 91,
      "outputs": []
    },
    {
      "cell_type": "code",
      "metadata": {
        "colab": {
          "base_uri": "https://localhost:8080/",
          "height": 391
        },
        "id": "HN69hn-EbWfN",
        "outputId": "b65cbf3d-0fd0-43ce-cce1-4aa09ab49281"
      },
      "source": [
        "history=model.fit(train_generator, steps_per_epoch=100,epochs=100,validation_data=validation_generator,validation_steps=50,verbose=2)"
      ],
      "execution_count": 90,
      "outputs": [
        {
          "output_type": "stream",
          "text": [
            "Epoch 1/100\n"
          ],
          "name": "stdout"
        },
        {
          "output_type": "error",
          "ename": "InvalidArgumentError",
          "evalue": "ignored",
          "traceback": [
            "\u001b[0;31m---------------------------------------------------------------------------\u001b[0m",
            "\u001b[0;31mInvalidArgumentError\u001b[0m                      Traceback (most recent call last)",
            "\u001b[0;32m<ipython-input-90-9b7fe3b8acd0>\u001b[0m in \u001b[0;36m<module>\u001b[0;34m()\u001b[0m\n\u001b[0;32m----> 1\u001b[0;31m \u001b[0mhistory\u001b[0m\u001b[0;34m=\u001b[0m\u001b[0mmodel4\u001b[0m\u001b[0;34m.\u001b[0m\u001b[0mfit\u001b[0m\u001b[0;34m(\u001b[0m\u001b[0mtrain_generator\u001b[0m\u001b[0;34m,\u001b[0m \u001b[0msteps_per_epoch\u001b[0m\u001b[0;34m=\u001b[0m\u001b[0;36m100\u001b[0m\u001b[0;34m,\u001b[0m\u001b[0mepochs\u001b[0m\u001b[0;34m=\u001b[0m\u001b[0;36m100\u001b[0m\u001b[0;34m,\u001b[0m\u001b[0mvalidation_data\u001b[0m\u001b[0;34m=\u001b[0m\u001b[0mvalidation_generator\u001b[0m\u001b[0;34m,\u001b[0m\u001b[0mvalidation_steps\u001b[0m\u001b[0;34m=\u001b[0m\u001b[0;36m50\u001b[0m\u001b[0;34m,\u001b[0m\u001b[0mverbose\u001b[0m\u001b[0;34m=\u001b[0m\u001b[0;36m2\u001b[0m\u001b[0;34m)\u001b[0m\u001b[0;34m\u001b[0m\u001b[0;34m\u001b[0m\u001b[0m\n\u001b[0m",
            "\u001b[0;32m/usr/local/lib/python3.6/dist-packages/tensorflow/python/keras/engine/training.py\u001b[0m in \u001b[0;36mfit\u001b[0;34m(self, x, y, batch_size, epochs, verbose, callbacks, validation_split, validation_data, shuffle, class_weight, sample_weight, initial_epoch, steps_per_epoch, validation_steps, validation_batch_size, validation_freq, max_queue_size, workers, use_multiprocessing)\u001b[0m\n\u001b[1;32m   1098\u001b[0m                 _r=1):\n\u001b[1;32m   1099\u001b[0m               \u001b[0mcallbacks\u001b[0m\u001b[0;34m.\u001b[0m\u001b[0mon_train_batch_begin\u001b[0m\u001b[0;34m(\u001b[0m\u001b[0mstep\u001b[0m\u001b[0;34m)\u001b[0m\u001b[0;34m\u001b[0m\u001b[0;34m\u001b[0m\u001b[0m\n\u001b[0;32m-> 1100\u001b[0;31m               \u001b[0mtmp_logs\u001b[0m \u001b[0;34m=\u001b[0m \u001b[0mself\u001b[0m\u001b[0;34m.\u001b[0m\u001b[0mtrain_function\u001b[0m\u001b[0;34m(\u001b[0m\u001b[0miterator\u001b[0m\u001b[0;34m)\u001b[0m\u001b[0;34m\u001b[0m\u001b[0;34m\u001b[0m\u001b[0m\n\u001b[0m\u001b[1;32m   1101\u001b[0m               \u001b[0;32mif\u001b[0m \u001b[0mdata_handler\u001b[0m\u001b[0;34m.\u001b[0m\u001b[0mshould_sync\u001b[0m\u001b[0;34m:\u001b[0m\u001b[0;34m\u001b[0m\u001b[0;34m\u001b[0m\u001b[0m\n\u001b[1;32m   1102\u001b[0m                 \u001b[0mcontext\u001b[0m\u001b[0;34m.\u001b[0m\u001b[0masync_wait\u001b[0m\u001b[0;34m(\u001b[0m\u001b[0;34m)\u001b[0m\u001b[0;34m\u001b[0m\u001b[0;34m\u001b[0m\u001b[0m\n",
            "\u001b[0;32m/usr/local/lib/python3.6/dist-packages/tensorflow/python/eager/def_function.py\u001b[0m in \u001b[0;36m__call__\u001b[0;34m(self, *args, **kwds)\u001b[0m\n\u001b[1;32m    826\u001b[0m     \u001b[0mtracing_count\u001b[0m \u001b[0;34m=\u001b[0m \u001b[0mself\u001b[0m\u001b[0;34m.\u001b[0m\u001b[0mexperimental_get_tracing_count\u001b[0m\u001b[0;34m(\u001b[0m\u001b[0;34m)\u001b[0m\u001b[0;34m\u001b[0m\u001b[0;34m\u001b[0m\u001b[0m\n\u001b[1;32m    827\u001b[0m     \u001b[0;32mwith\u001b[0m \u001b[0mtrace\u001b[0m\u001b[0;34m.\u001b[0m\u001b[0mTrace\u001b[0m\u001b[0;34m(\u001b[0m\u001b[0mself\u001b[0m\u001b[0;34m.\u001b[0m\u001b[0m_name\u001b[0m\u001b[0;34m)\u001b[0m \u001b[0;32mas\u001b[0m \u001b[0mtm\u001b[0m\u001b[0;34m:\u001b[0m\u001b[0;34m\u001b[0m\u001b[0;34m\u001b[0m\u001b[0m\n\u001b[0;32m--> 828\u001b[0;31m       \u001b[0mresult\u001b[0m \u001b[0;34m=\u001b[0m \u001b[0mself\u001b[0m\u001b[0;34m.\u001b[0m\u001b[0m_call\u001b[0m\u001b[0;34m(\u001b[0m\u001b[0;34m*\u001b[0m\u001b[0margs\u001b[0m\u001b[0;34m,\u001b[0m \u001b[0;34m**\u001b[0m\u001b[0mkwds\u001b[0m\u001b[0;34m)\u001b[0m\u001b[0;34m\u001b[0m\u001b[0;34m\u001b[0m\u001b[0m\n\u001b[0m\u001b[1;32m    829\u001b[0m       \u001b[0mcompiler\u001b[0m \u001b[0;34m=\u001b[0m \u001b[0;34m\"xla\"\u001b[0m \u001b[0;32mif\u001b[0m \u001b[0mself\u001b[0m\u001b[0;34m.\u001b[0m\u001b[0m_experimental_compile\u001b[0m \u001b[0;32melse\u001b[0m \u001b[0;34m\"nonXla\"\u001b[0m\u001b[0;34m\u001b[0m\u001b[0;34m\u001b[0m\u001b[0m\n\u001b[1;32m    830\u001b[0m       \u001b[0mnew_tracing_count\u001b[0m \u001b[0;34m=\u001b[0m \u001b[0mself\u001b[0m\u001b[0;34m.\u001b[0m\u001b[0mexperimental_get_tracing_count\u001b[0m\u001b[0;34m(\u001b[0m\u001b[0;34m)\u001b[0m\u001b[0;34m\u001b[0m\u001b[0;34m\u001b[0m\u001b[0m\n",
            "\u001b[0;32m/usr/local/lib/python3.6/dist-packages/tensorflow/python/eager/def_function.py\u001b[0m in \u001b[0;36m_call\u001b[0;34m(self, *args, **kwds)\u001b[0m\n\u001b[1;32m    853\u001b[0m       \u001b[0;31m# In this case we have created variables on the first call, so we run the\u001b[0m\u001b[0;34m\u001b[0m\u001b[0;34m\u001b[0m\u001b[0;34m\u001b[0m\u001b[0m\n\u001b[1;32m    854\u001b[0m       \u001b[0;31m# defunned version which is guaranteed to never create variables.\u001b[0m\u001b[0;34m\u001b[0m\u001b[0;34m\u001b[0m\u001b[0;34m\u001b[0m\u001b[0m\n\u001b[0;32m--> 855\u001b[0;31m       \u001b[0;32mreturn\u001b[0m \u001b[0mself\u001b[0m\u001b[0;34m.\u001b[0m\u001b[0m_stateless_fn\u001b[0m\u001b[0;34m(\u001b[0m\u001b[0;34m*\u001b[0m\u001b[0margs\u001b[0m\u001b[0;34m,\u001b[0m \u001b[0;34m**\u001b[0m\u001b[0mkwds\u001b[0m\u001b[0;34m)\u001b[0m  \u001b[0;31m# pylint: disable=not-callable\u001b[0m\u001b[0;34m\u001b[0m\u001b[0;34m\u001b[0m\u001b[0m\n\u001b[0m\u001b[1;32m    856\u001b[0m     \u001b[0;32melif\u001b[0m \u001b[0mself\u001b[0m\u001b[0;34m.\u001b[0m\u001b[0m_stateful_fn\u001b[0m \u001b[0;32mis\u001b[0m \u001b[0;32mnot\u001b[0m \u001b[0;32mNone\u001b[0m\u001b[0;34m:\u001b[0m\u001b[0;34m\u001b[0m\u001b[0;34m\u001b[0m\u001b[0m\n\u001b[1;32m    857\u001b[0m       \u001b[0;31m# Release the lock early so that multiple threads can perform the call\u001b[0m\u001b[0;34m\u001b[0m\u001b[0;34m\u001b[0m\u001b[0;34m\u001b[0m\u001b[0m\n",
            "\u001b[0;32m/usr/local/lib/python3.6/dist-packages/tensorflow/python/eager/function.py\u001b[0m in \u001b[0;36m__call__\u001b[0;34m(self, *args, **kwargs)\u001b[0m\n\u001b[1;32m   2941\u001b[0m        filtered_flat_args) = self._maybe_define_function(args, kwargs)\n\u001b[1;32m   2942\u001b[0m     return graph_function._call_flat(\n\u001b[0;32m-> 2943\u001b[0;31m         filtered_flat_args, captured_inputs=graph_function.captured_inputs)  # pylint: disable=protected-access\n\u001b[0m\u001b[1;32m   2944\u001b[0m \u001b[0;34m\u001b[0m\u001b[0m\n\u001b[1;32m   2945\u001b[0m   \u001b[0;34m@\u001b[0m\u001b[0mproperty\u001b[0m\u001b[0;34m\u001b[0m\u001b[0;34m\u001b[0m\u001b[0m\n",
            "\u001b[0;32m/usr/local/lib/python3.6/dist-packages/tensorflow/python/eager/function.py\u001b[0m in \u001b[0;36m_call_flat\u001b[0;34m(self, args, captured_inputs, cancellation_manager)\u001b[0m\n\u001b[1;32m   1917\u001b[0m       \u001b[0;31m# No tape is watching; skip to running the function.\u001b[0m\u001b[0;34m\u001b[0m\u001b[0;34m\u001b[0m\u001b[0;34m\u001b[0m\u001b[0m\n\u001b[1;32m   1918\u001b[0m       return self._build_call_outputs(self._inference_function.call(\n\u001b[0;32m-> 1919\u001b[0;31m           ctx, args, cancellation_manager=cancellation_manager))\n\u001b[0m\u001b[1;32m   1920\u001b[0m     forward_backward = self._select_forward_and_backward_functions(\n\u001b[1;32m   1921\u001b[0m         \u001b[0margs\u001b[0m\u001b[0;34m,\u001b[0m\u001b[0;34m\u001b[0m\u001b[0;34m\u001b[0m\u001b[0m\n",
            "\u001b[0;32m/usr/local/lib/python3.6/dist-packages/tensorflow/python/eager/function.py\u001b[0m in \u001b[0;36mcall\u001b[0;34m(self, ctx, args, cancellation_manager)\u001b[0m\n\u001b[1;32m    558\u001b[0m               \u001b[0minputs\u001b[0m\u001b[0;34m=\u001b[0m\u001b[0margs\u001b[0m\u001b[0;34m,\u001b[0m\u001b[0;34m\u001b[0m\u001b[0;34m\u001b[0m\u001b[0m\n\u001b[1;32m    559\u001b[0m               \u001b[0mattrs\u001b[0m\u001b[0;34m=\u001b[0m\u001b[0mattrs\u001b[0m\u001b[0;34m,\u001b[0m\u001b[0;34m\u001b[0m\u001b[0;34m\u001b[0m\u001b[0m\n\u001b[0;32m--> 560\u001b[0;31m               ctx=ctx)\n\u001b[0m\u001b[1;32m    561\u001b[0m         \u001b[0;32melse\u001b[0m\u001b[0;34m:\u001b[0m\u001b[0;34m\u001b[0m\u001b[0;34m\u001b[0m\u001b[0m\n\u001b[1;32m    562\u001b[0m           outputs = execute.execute_with_cancellation(\n",
            "\u001b[0;32m/usr/local/lib/python3.6/dist-packages/tensorflow/python/eager/execute.py\u001b[0m in \u001b[0;36mquick_execute\u001b[0;34m(op_name, num_outputs, inputs, attrs, ctx, name)\u001b[0m\n\u001b[1;32m     58\u001b[0m     \u001b[0mctx\u001b[0m\u001b[0;34m.\u001b[0m\u001b[0mensure_initialized\u001b[0m\u001b[0;34m(\u001b[0m\u001b[0;34m)\u001b[0m\u001b[0;34m\u001b[0m\u001b[0;34m\u001b[0m\u001b[0m\n\u001b[1;32m     59\u001b[0m     tensors = pywrap_tfe.TFE_Py_Execute(ctx._handle, device_name, op_name,\n\u001b[0;32m---> 60\u001b[0;31m                                         inputs, attrs, num_outputs)\n\u001b[0m\u001b[1;32m     61\u001b[0m   \u001b[0;32mexcept\u001b[0m \u001b[0mcore\u001b[0m\u001b[0;34m.\u001b[0m\u001b[0m_NotOkStatusException\u001b[0m \u001b[0;32mas\u001b[0m \u001b[0me\u001b[0m\u001b[0;34m:\u001b[0m\u001b[0;34m\u001b[0m\u001b[0;34m\u001b[0m\u001b[0m\n\u001b[1;32m     62\u001b[0m     \u001b[0;32mif\u001b[0m \u001b[0mname\u001b[0m \u001b[0;32mis\u001b[0m \u001b[0;32mnot\u001b[0m \u001b[0;32mNone\u001b[0m\u001b[0;34m:\u001b[0m\u001b[0;34m\u001b[0m\u001b[0;34m\u001b[0m\u001b[0m\n",
            "\u001b[0;31mInvalidArgumentError\u001b[0m:  Incompatible shapes: [20,150,150] vs. [20,1]\n\t [[node Equal (defined at <ipython-input-89-9b7fe3b8acd0>:1) ]] [Op:__inference_train_function_59750]\n\nFunction call stack:\ntrain_function\n"
          ]
        }
      ]
    },
    {
      "cell_type": "code",
      "metadata": {
        "id": "9lBskEVDbqT-"
      },
      "source": [
        ""
      ],
      "execution_count": null,
      "outputs": []
    }
  ]
}