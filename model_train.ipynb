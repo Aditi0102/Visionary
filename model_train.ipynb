{
  "nbformat": 4,
  "nbformat_minor": 0,
  "metadata": {
    "language_info": {
      "codemirror_mode": {
        "name": "ipython",
        "version": 3
      },
      "file_extension": ".py",
      "mimetype": "text/x-python",
      "name": "python",
      "nbconvert_exporter": "python",
      "pygments_lexer": "ipython3",
      "version": "3.8.5-final"
    },
    "orig_nbformat": 2,
    "kernelspec": {
      "name": "python3",
      "display_name": "Python 3",
      "language": "python"
    },
    "colab": {
      "name": "model_train.ipynb",
      "provenance": []
    }
  },
  "cells": [
    {
      "cell_type": "code",
      "metadata": {
        "id": "xO9rq2eBnFPg"
      },
      "source": [
        "# Import Stuff\n",
        "import tensorflow as tf\n",
        "from tensorflow import keras\n",
        "import numpy as np\n",
        "import cv2\n",
        "from imgextract import Extractor"
      ],
      "execution_count": 1,
      "outputs": []
    },
    {
      "cell_type": "code",
      "metadata": {
        "id": "LKyg8tLfnFP1"
      },
      "source": [
        "# All Parameters required for training are declared over here\n",
        "videopath = \"Data/Dummy/test2.mp4\"\n",
        "# Frequency of Image Capturingtmp\n",
        "FRAME_SKIP = 25\n",
        "# Frame Size\n",
        "FRAME_SIZE = (100,100)\n",
        "ext = Extractor(FRAME_SIZE, FRAME_SKIP)"
      ],
      "execution_count": 2,
      "outputs": []
    },
    {
      "cell_type": "code",
      "metadata": {
        "id": "9OLe77lVnFP2",
        "outputId": "49e0360c-79dd-41f6-ea10-6ddb886fea49"
      },
      "source": [
        "print(\"Model Train Init\") "
      ],
      "execution_count": 3,
      "outputs": [
        {
          "output_type": "stream",
          "name": "stdout",
          "text": [
            "Model Train Init\n"
          ]
        }
      ]
    },
    {
      "cell_type": "code",
      "metadata": {
        "id": "8hJBNB8nnFP4"
      },
      "source": [
        "# Image Extraction from Videos\n",
        "ext.extract(videopath, 'tmp')"
      ],
      "execution_count": 4,
      "outputs": []
    },
    {
      "cell_type": "code",
      "execution_count": null,
      "metadata": {},
      "outputs": [],
      "source": []
    }
  ]
}