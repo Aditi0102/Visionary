{
 "metadata": {
  "language_info": {
   "codemirror_mode": {
    "name": "ipython",
    "version": 3
   },
   "file_extension": ".py",
   "mimetype": "text/x-python",
   "name": "python",
   "nbconvert_exporter": "python",
   "pygments_lexer": "ipython3",
   "version": "3.8.5-final"
  },
  "orig_nbformat": 2,
  "kernelspec": {
   "name": "python38564bit6552a5f4260948d58e4b3e55c0789a8f",
   "display_name": "Python 3.8.5 64-bit",
   "language": "python"
  }
 },
 "nbformat": 4,
 "nbformat_minor": 2,
 "cells": [
  {
   "cell_type": "code",
   "execution_count": 11,
   "metadata": {},
   "outputs": [],
   "source": [
    "# Import Stuff\n",
    "import tensorflow as tf\n",
    "from tensorflow import keras\n",
    "import numpy as np\n",
    "import cv2"
   ]
  },
  {
   "cell_type": "code",
   "execution_count": 12,
   "metadata": {},
   "outputs": [],
   "source": [
    "# All Parameters required for training are declared over here\n",
    "videopath = \"./Sample/test2.mp4\"\n",
    "DIR = \"Data\"\n",
    "FRAME_SKIP = 10"
   ]
  },
  {
   "cell_type": "code",
   "execution_count": 13,
   "metadata": {},
   "outputs": [
    {
     "output_type": "stream",
     "name": "stdout",
     "text": [
      "Model Train Init\n"
     ]
    }
   ],
   "source": [
    "print(\"Model Train Init\") "
   ]
  },
  {
   "cell_type": "code",
   "execution_count": 14,
   "metadata": {},
   "outputs": [],
   "source": [
    "# Image Extraction from Videos\n",
    "import os\n",
    "train_folder = \"./\" + DIR + '/training'\n",
    "if not os.path.exists(train_folder):\n",
    "    os.makedirs(train_folder)\n",
    "\n",
    "videoFile = videopath\n",
    "cap = cv2.VideoCapture(videoFile)   # capturing the video from the given path\n",
    "count = 0\n",
    "while True:\n",
    "    stat = True\n",
    "    for i in range(FRAME_SKIP):\n",
    "        ret, frame = cap.read()\n",
    "        if ret is False:\n",
    "            stat = False\n",
    "            break\n",
    "    if not stat:\n",
    "        break\n",
    "    \n",
    "    frame = cv2.resize(frame, (64,64))\n",
    "    fname = '%s/%d.jpg' % (train_folder, count)\n",
    "    cv2.imwrite(fname, frame)\n",
    "    count += 1\n",
    "\n",
    "cap.release()"
   ]
  },
  {
   "cell_type": "code",
   "execution_count": null,
   "metadata": {},
   "outputs": [],
   "source": []
  }
 ]
}