{
 "metadata": {
  "language_info": {
   "codemirror_mode": {
    "name": "ipython",
    "version": 3
   },
   "file_extension": ".py",
   "mimetype": "text/x-python",
   "name": "python",
   "nbconvert_exporter": "python",
   "pygments_lexer": "ipython3",
   "version": "3.8.5-final"
  },
  "orig_nbformat": 2,
  "kernelspec": {
   "name": "python38564bit3f83f4ec2fc1440cb92bd9e85b72ca02",
   "display_name": "Python 3.8.5 64-bit",
   "language": "python"
  }
 },
 "nbformat": 4,
 "nbformat_minor": 2,
 "cells": [
  {
   "cell_type": "code",
   "execution_count": 26,
   "metadata": {},
   "outputs": [],
   "source": [
    "import tensorflow as tf\n",
    "from tensorflow import keras\n",
    "import numpy as np\n",
    "import cv2\n",
    "from localisation import Localiser\n",
    "import requests\n"
   ]
  },
  {
   "cell_type": "code",
   "execution_count": 27,
   "metadata": {},
   "outputs": [],
   "source": [
    "model = keras.models.load_model('./Models/CustomisedCNNModel.h5')\n",
    "url = './Data/Dummy/1.mp4'\n",
    "font = cv2.FONT_HERSHEY_SIMPLEX \n",
    "org = (10, 40) \n",
    "fontScale = 0.7\n",
    "thickness = 1\n",
    "SIZE = (150,150)\n",
    "THRESH = 0.5\n",
    "\n",
    "# url = '/home/avishrant/Downloads/test.mp4'"
   ]
  },
  {
   "cell_type": "code",
   "execution_count": 28,
   "metadata": {},
   "outputs": [],
   "source": [
    "# Initial Image Localisation\n",
    "class Draw(object):\n",
    "    def __init__(self):\n",
    "        pass\n",
    "\n",
    "    def set_ref(self, frame):\n",
    "        self.ref = frame\n",
    "    \n",
    "    def drawfunc(self, frame):\n",
    "        diff = cv2.absdiff(self.ref, frame)\n",
    "        gray = cv2.cvtColor(diff, cv2.COLOR_BGR2GRAY)\n",
    "        blur = cv2.GaussianBlur(gray, (5,5), 0)\n",
    "        _, thresh = cv2.threshold(blur, 20, 255, cv2.THRESH_BINARY)\n",
    "        dilated = cv2.dilate(thresh, None, iterations=3)\n",
    "        contours, _ = cv2.findContours(dilated, cv2.RETR_TREE, cv2.CHAIN_APPROX_SIMPLE)\n",
    "\n",
    "        self.ref = frame.copy()\n",
    "        for contour in contours:\n",
    "            (x, y, w, h) = cv2.boundingRect(contour)\n",
    "            if cv2.contourArea(contour) < 1500:\n",
    "                continue\n",
    "            frame = cv2.rectangle(frame, (x, y), (x+w, y+h), (0, 255, 0), 2)\n",
    "        return frame"
   ]
  },
  {
   "cell_type": "code",
   "execution_count": 23,
   "metadata": {
    "tags": []
   },
   "outputs": [
    {
     "output_type": "stream",
     "name": "stderr",
     "text": [
      "Exception ignored in: <function Localiser.__del__ at 0x7fef803fae50>\nTraceback (most recent call last):\n  File \"/home/ritik/GitRepo/Visionary/localisation.py\", line 27, in __del__\n    self.cap.release()\nAttributeError: 'Localiser' object has no attribute 'cap'\n"
     ]
    }
   ],
   "source": [
    "# Live Generator\n",
    "vid = cv2.VideoCapture(url)\n",
    "f_stat = False\n",
    "obj = Draw()\n",
    "loc = Localiser()\n",
    "x = []\n",
    "fcount = 0\n",
    "while (cv2.waitKey(1) == -1):\n",
    "    ret, frame = vid.read()\n",
    "    if not ret:\n",
    "        break\n",
    "    tmp = cv2.resize(frame , SIZE)\n",
    "    tmp = tmp / 255.0\n",
    "    pred = model.predict(np.array([tmp]))\n",
    "\n",
    "    if fcount > 2:\n",
    "        pred = pred[0][0]\n",
    "        final = x[0] + x[1] + pred\n",
    "        final /= 3\n",
    "\n",
    "    else:\n",
    "        pred = pred[0][0]\n",
    "        final = pred\n",
    "\n",
    "    x.insert(fcount % 2, pred)\n",
    "    if not f_stat:\n",
    "        f_stat = True\n",
    "        obj.set_ref(frame) \n",
    "    else:\n",
    "        frame = obj.drawfunc(frame)\n",
    "    \n",
    "    # frame = loc.localise(frame)\n",
    "    string = \"Suspicious\" \n",
    "    if final > THRESH:\n",
    "        data = {\"user\": \"test@gmail.com\", \"head\": \"TestNotification\", \"body\": \"Just a Test\"}\n",
    "        url = \"https://trial-ku.herokuapp.com/notify/\"\n",
    "        response = requests.post(url, data)\n",
    "        print(response) \n",
    "    else:\n",
    "        string = \"Peaceful\"\n",
    "\n",
    "    string += f\" {str(final)}\"\n",
    "    color = (0, 0, 255) if final > THRESH else (255, 0, 0)\n",
    "    frame = cv2.putText(frame, string, org, font, fontScale, color, thickness, cv2.LINE_AA) \n",
    "    cv2.imshow(\"Video\", frame)\n",
    "    fcount += 1\n",
    "    \n",
    "vid.release()\n",
    "cv2.destroyAllWindows()"
   ]
  },
  {
   "cell_type": "code",
   "execution_count": 29,
   "metadata": {},
   "outputs": [
    {
     "output_type": "stream",
     "name": "stdout",
     "text": [
      "Done !\n"
     ]
    }
   ],
   "source": [
    "# Video Generator (CNN frame by frame)\n",
    "F_GROUPS = 5\n",
    "\n",
    "font = cv2.FONT_HERSHEY_SIMPLEX \n",
    "org = (10, 40) \n",
    "fontScale = 0.7\n",
    "thickness = 1\n",
    "\n",
    "W, H = None, None\n",
    "out = None      \n",
    "vid = cv2.VideoCapture(url)\n",
    "orig_pred = []\n",
    "fcount = 0\n",
    "fourcc = cv2.VideoWriter_fourcc('M','J','P','G')\n",
    "\n",
    "while (cv2.waitKey(1) == -1):\n",
    "    ret, frame = vid.read()\n",
    "    if not ret:\n",
    "        break\n",
    "    if W is None or H is None:\n",
    "        (H, W) = frame.shape[:2]\n",
    "        \n",
    "    tmp = cv2.resize(frame, SIZE)\n",
    "    tmp = tmp / 255.0\n",
    "    if not fcount % 2:\n",
    "        pred = model.predict(np.array([tmp]))\n",
    "        orig_pred.append(pred[0][0])\n",
    "    else:\n",
    "        pred = orig_pred[-1]\n",
    "        orig_pred.append(pred)\n",
    "\n",
    "    if fcount >= F_GROUPS:\n",
    "        roll = np.array(orig_pred[fcount-F_GROUPS:fcount]).mean(axis=0)\n",
    "        string = \"Suspicious\" if roll > THRESH else \"Peaceful\"\n",
    "        color = (0, 0, 255) if roll > THRESH else (255, 0, 0)\n",
    "    else:\n",
    "        string = \"Calibrating\"\n",
    "        color = (0, 255, 0)\n",
    "    \n",
    "    frame = cv2.putText(frame, string, org, font, fontScale, color, thickness, cv2.LINE_AA) \n",
    "    if out is None:\n",
    "        out = cv2.VideoWriter(\"output.avi\", fourcc, 15, (W, H))\n",
    "\n",
    "    fcount += 1\n",
    "    out.write(frame)\n",
    "    cv2.imshow(\"Frame\", frame)\n",
    "\n",
    "print(\"Done !\")\n",
    "vid.release()\n",
    "out.release()\n",
    "cv2.destroyAllWindows()"
   ]
  },
  {
   "cell_type": "code",
   "execution_count": 46,
   "metadata": {},
   "outputs": [
    {
     "output_type": "stream",
     "name": "stdout",
     "text": [
      "Done !\n"
     ]
    }
   ],
   "source": [
    "# Video Generator Version-2 (Rolling Average)\n",
    "\n",
    "W, H = None, None\n",
    "out = None      \n",
    "vid = cv2.VideoCapture(url)\n",
    "fcount = 0\n",
    "fourcc = cv2.VideoWriter_fourcc('M','J','P','G')\n",
    "frames = []\n",
    "holder = []\n",
    "while (cv2.waitKey(1) == -1):\n",
    "    ret, frame = vid.read()\n",
    "    if not ret:\n",
    "        break\n",
    "    if W is None or H is None:\n",
    "        (H, W) = frame.shape[:2]\n",
    "\n",
    "    tmp = cv2.resize(frame, SIZE)\n",
    "    tmp = tmp / 255.0\n",
    "    \n",
    "    if not fcount % F_GROUPS and fcount:\n",
    "        pred = model.predict(np.array(holder))\n",
    "        roll = np.array(pred).flatten().mean(axis = 0)\n",
    "        string = \"Suspicious\" if roll > THRESH else \"Peaceful\"\n",
    "        color = (0, 0, 255) if roll > THRESH else (255, 0, 0)\n",
    "        for i in range(len(frames)):\n",
    "            tmp_frame = cv2.putText(frames[i], string, org, font, fontScale, color, thickness, cv2.LINE_AA)\n",
    "            cv2.imshow(\"Frame\", tmp_frame) \n",
    "            if out is None:\n",
    "                out = cv2.VideoWriter(\"output_2.avi\", fourcc, 15, (W, H))\n",
    "            out.write(tmp_frame)\n",
    "        fcount += 1\n",
    "        holder = []\n",
    "        frames = []\n",
    "    \n",
    "    holder.append(tmp)\n",
    "    frames.append(frame)\n",
    "    fcount += 1\n",
    "    \n",
    "print(\"Done !\")\n",
    "vid.release()\n",
    "out.release()\n",
    "cv2.destroyAllWindows()"
   ]
  },
  {
   "cell_type": "code",
   "execution_count": null,
   "metadata": {},
   "outputs": [],
   "source": []
  }
 ]
}