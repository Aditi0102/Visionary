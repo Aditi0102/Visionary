{
 "metadata": {
  "language_info": {
   "codemirror_mode": {
    "name": "ipython",
    "version": 3
   },
   "file_extension": ".py",
   "mimetype": "text/x-python",
   "name": "python",
   "nbconvert_exporter": "python",
   "pygments_lexer": "ipython3",
   "version": "3.8.5-final"
  },
  "orig_nbformat": 2,
  "kernelspec": {
   "name": "python38564bit6552a5f4260948d58e4b3e55c0789a8f",
   "display_name": "Python 3.8.5 64-bit",
   "language": "python"
  }
 },
 "nbformat": 4,
 "nbformat_minor": 2,
 "cells": [
  {
   "cell_type": "code",
   "execution_count": 2,
   "metadata": {},
   "outputs": [],
   "source": [
    "import tensorflow as tf\n",
    "from tensorflow import keras\n",
    "import numpy as np"
   ]
  },
  {
   "cell_type": "code",
   "execution_count": 17,
   "metadata": {},
   "outputs": [],
   "source": [
    "model = keras.models.load_model('./Trained Models/m1.h5')\n",
    "url = './Testing/test2.mp4'\n",
    "# url = '/home/avishrant/Downloads/test.mp4'"
   ]
  },
  {
   "cell_type": "code",
   "execution_count": 24,
   "metadata": {},
   "outputs": [],
   "source": [
    "import cv2\n",
    "class Draw(object):\n",
    "    def __init__(self):\n",
    "        pass\n",
    "\n",
    "    def set_ref(self, frame):\n",
    "        self.ref = frame\n",
    "    \n",
    "    def drawfunc(self, frame):\n",
    "        diff = cv2.absdiff(self.ref, frame)\n",
    "        gray = cv2.cvtColor(diff, cv2.COLOR_BGR2GRAY)\n",
    "        blur = cv2.GaussianBlur(gray, (5,5), 0)\n",
    "        _, thresh = cv2.threshold(blur, 20, 255, cv2.THRESH_BINARY)\n",
    "        dilated = cv2.dilate(thresh, None, iterations=3)\n",
    "        contours, _ = cv2.findContours(dilated, cv2.RETR_TREE, cv2.CHAIN_APPROX_SIMPLE)\n",
    "\n",
    "        self.ref = frame.copy()\n",
    "        for contour in contours:\n",
    "            (x, y, w, h) = cv2.boundingRect(contour)\n",
    "            if cv2.contourArea(contour) < 1500:\n",
    "                continue\n",
    "            frame = cv2.rectangle(frame, (x, y), (x+w, y+h), (0, 255, 0), 2)\n",
    "        return frame"
   ]
  },
  {
   "cell_type": "code",
   "execution_count": 25,
   "metadata": {},
   "outputs": [],
   "source": [
    "# Live Generator\n",
    "vid = cv2.VideoCapture(url)\n",
    "font = cv2.FONT_HERSHEY_SIMPLEX \n",
    "org = (10, 40) \n",
    "fontScale = 0.7\n",
    "thickness = 1\n",
    "f_stat = False\n",
    "obj = Draw()\n",
    "while (cv2.waitKey(1) == -1):\n",
    "    ret, frame = vid.read()\n",
    "    \n",
    "    if not ret:\n",
    "        break\n",
    "    tmp = cv2.resize(frame , (150, 150))\n",
    "    tmp = tmp / 255.0\n",
    "    pred = model.predict(np.array([tmp]))\n",
    "    if not f_stat:\n",
    "        f_stat = True\n",
    "        obj.set_ref(frame) \n",
    "    else:\n",
    "        frame = obj.drawfunc(frame)\n",
    "\n",
    "    string = \"Suspicious\" if pred[0][0] < 0.5 else \"Peaceful\"\n",
    "    string += f\" {str(pred[0][0])}\"\n",
    "    color = (0, 0, 255) if pred[0][0] < 0.5 else (255, 0, 0)\n",
    "    frame = cv2.putText(frame, string, org, font, fontScale, color, thickness, cv2.LINE_AA) \n",
    "    cv2.imshow(\"Video\", frame)\n",
    "    \n",
    "vid.release()\n",
    "cv2.destroyAllWindows()"
   ]
  },
  {
   "cell_type": "code",
   "execution_count": 23,
   "metadata": {},
   "outputs": [
    {
     "output_type": "stream",
     "name": "stdout",
     "text": [
      "Done !\n"
     ]
    }
   ],
   "source": [
    "# Video Generator\n",
    "THRESH = 0.5\n",
    "F_GROUPS = 5\n",
    "\n",
    "import cv2\n",
    "import numpy as np\n",
    "font = cv2.FONT_HERSHEY_SIMPLEX \n",
    "org = (10, 40) \n",
    "fontScale = 0.7\n",
    "thickness = 1\n",
    "\n",
    "W, H = None, None\n",
    "out = None      \n",
    "vid = cv2.VideoCapture(url)\n",
    "orig_pred = []\n",
    "fcount = 0\n",
    "fourcc = cv2.VideoWriter_fourcc('M','J','P','G')\n",
    "\n",
    "while (cv2.waitKey(1) == -1):\n",
    "    ret, frame = vid.read()\n",
    "    if not ret:\n",
    "        break\n",
    "    if W is None or H is None:\n",
    "        (H, W) = frame.shape[:2]\n",
    "        \n",
    "    tmp = cv2.resize(frame, (150, 150))\n",
    "    tmp = tmp / 255.0\n",
    "    if not fcount % 2:\n",
    "        pred = model.predict(np.array([tmp]))\n",
    "        orig_pred.append(pred[0][0])\n",
    "    else:\n",
    "        pred = orig_pred[-1]\n",
    "        orig_pred.append(pred)\n",
    "\n",
    "    if fcount >= F_GROUPS:\n",
    "        roll = np.array(orig_pred[fcount-F_GROUPS:fcount]).mean(axis=0)\n",
    "        string = \"Suspicious\" if roll < THRESH else \"Peaceful\"\n",
    "        color = (0, 0, 255) if roll < THRESH else (255, 0, 0)\n",
    "    else:\n",
    "        string = \"Calibrating\"\n",
    "        color = (0, 255, 0)\n",
    "    \n",
    "    frame = cv2.putText(frame, string, org, font, fontScale, color, thickness, cv2.LINE_AA) \n",
    "    if out is None:\n",
    "        out = cv2.VideoWriter(\"output.avi\", fourcc, 15, (W, H))\n",
    "\n",
    "    fcount += 1\n",
    "    out.write(frame)\n",
    "    cv2.imshow(\"Frame\", frame)\n",
    "\n",
    "print(\"Done !\")\n",
    "vid.release()\n",
    "out.release()\n",
    "cv2.destroyAllWindows()"
   ]
  },
  {
   "cell_type": "code",
   "execution_count": null,
   "metadata": {},
   "outputs": [],
   "source": []
  }
 ]
}